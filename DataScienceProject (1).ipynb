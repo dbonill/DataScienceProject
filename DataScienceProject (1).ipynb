{
  "nbformat": 4,
  "nbformat_minor": 0,
  "metadata": {
    "colab": {
      "provenance": []
    },
    "kernelspec": {
      "name": "python3",
      "display_name": "Python 3"
    },
    "language_info": {
      "name": "python"
    }
  },
  "cells": [
    {
      "cell_type": "code",
      "metadata": {
        "id": "YspSjaF7rs6y"
      },
      "source": [
        "#Libraries \n",
        "import numpy as np\n",
        "import pandas as pd\n",
        "import datetime\n",
        "import matplotlib.pyplot as plt\n",
        "from sklearn.linear_model import LinearRegression\n",
        "\n",
        "import seaborn as sns\n",
        "from matplotlib import rcParams\n",
        "rcParams['figure.figsize'] = 15, 5\n",
        "sns.set_style('darkgrid')\n",
        "from sklearn import metrics\n",
        "from sklearn.metrics import r2_score\n",
        "\n",
        "#neural network\n",
        "from sklearn.neural_network import MLPRegressor\n",
        "from sklearn.model_selection import train_test_split\n",
        "\n",
        "from tensorflow.keras.models import Sequential\n",
        "from tensorflow.keras.layers import LSTM\n",
        "from tensorflow.keras.layers import Dense, Dropout\n",
        "from sklearn.preprocessing import MinMaxScaler\n",
        "from sklearn.preprocessing import StandardScaler\n",
        "\n",
        "\n",
        "from fbprophet import Prophet"
      ],
      "execution_count": null,
      "outputs": []
    },
    {
      "cell_type": "code",
      "metadata": {
        "colab": {
          "resources": {
            "http://localhost:8080/nbextensions/google.colab/files.js": {
              "data": "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",
              "ok": true,
              "headers": [
                [
                  "content-type",
                  "application/javascript"
                ]
              ],
              "status": 200,
              "status_text": ""
            }
          },
          "base_uri": "https://localhost:8080/",
          "height": 72
        },
        "id": "h5fT81yPsADH",
        "outputId": "c86a754c-45ba-44f6-d2d7-f2c8e45b3aff"
      },
      "source": [
        "#Loading Data\n",
        "from google.colab import files\n",
        "uploaded = files.upload()"
      ],
      "execution_count": null,
      "outputs": [
        {
          "output_type": "display_data",
          "data": {
            "text/html": [
              "\n",
              "     <input type=\"file\" id=\"files-60133b91-43d0-402c-9ee4-5caae913e4b3\" name=\"files[]\" multiple disabled\n",
              "        style=\"border:none\" />\n",
              "     <output id=\"result-60133b91-43d0-402c-9ee4-5caae913e4b3\">\n",
              "      Upload widget is only available when the cell has been executed in the\n",
              "      current browser session. Please rerun this cell to enable.\n",
              "      </output>\n",
              "      <script src=\"/nbextensions/google.colab/files.js\"></script> "
            ],
            "text/plain": [
              "<IPython.core.display.HTML object>"
            ]
          },
          "metadata": {}
        },
        {
          "output_type": "stream",
          "name": "stdout",
          "text": [
            "Saving BTC-USD.csv to BTC-USD.csv\n"
          ]
        }
      ]
    },
    {
      "cell_type": "code",
      "metadata": {
        "colab": {
          "base_uri": "https://localhost:8080/",
          "height": 204
        },
        "id": "2VHNv6kEsidf",
        "outputId": "75d2b3d3-c319-4b39-9325-b1429e048eeb"
      },
      "source": [
        "#storing data\n",
        "df = pd.read_csv('BTC-USD.csv')\n",
        "#df = df.reset_index()\n",
        "#showing first few rows\n",
        "df.head()"
      ],
      "execution_count": null,
      "outputs": [
        {
          "output_type": "execute_result",
          "data": {
            "text/html": [
              "<div>\n",
              "<style scoped>\n",
              "    .dataframe tbody tr th:only-of-type {\n",
              "        vertical-align: middle;\n",
              "    }\n",
              "\n",
              "    .dataframe tbody tr th {\n",
              "        vertical-align: top;\n",
              "    }\n",
              "\n",
              "    .dataframe thead th {\n",
              "        text-align: right;\n",
              "    }\n",
              "</style>\n",
              "<table border=\"1\" class=\"dataframe\">\n",
              "  <thead>\n",
              "    <tr style=\"text-align: right;\">\n",
              "      <th></th>\n",
              "      <th>Date</th>\n",
              "      <th>Open</th>\n",
              "      <th>High</th>\n",
              "      <th>Low</th>\n",
              "      <th>Close</th>\n",
              "      <th>Adj Close</th>\n",
              "      <th>Volume</th>\n",
              "    </tr>\n",
              "  </thead>\n",
              "  <tbody>\n",
              "    <tr>\n",
              "      <th>0</th>\n",
              "      <td>2014-09-17</td>\n",
              "      <td>465.864014</td>\n",
              "      <td>468.174011</td>\n",
              "      <td>452.421997</td>\n",
              "      <td>457.334015</td>\n",
              "      <td>457.334015</td>\n",
              "      <td>21056800.0</td>\n",
              "    </tr>\n",
              "    <tr>\n",
              "      <th>1</th>\n",
              "      <td>2014-09-18</td>\n",
              "      <td>456.859985</td>\n",
              "      <td>456.859985</td>\n",
              "      <td>413.104004</td>\n",
              "      <td>424.440002</td>\n",
              "      <td>424.440002</td>\n",
              "      <td>34483200.0</td>\n",
              "    </tr>\n",
              "    <tr>\n",
              "      <th>2</th>\n",
              "      <td>2014-09-19</td>\n",
              "      <td>424.102997</td>\n",
              "      <td>427.834991</td>\n",
              "      <td>384.532013</td>\n",
              "      <td>394.795990</td>\n",
              "      <td>394.795990</td>\n",
              "      <td>37919700.0</td>\n",
              "    </tr>\n",
              "    <tr>\n",
              "      <th>3</th>\n",
              "      <td>2014-09-20</td>\n",
              "      <td>394.673004</td>\n",
              "      <td>423.295990</td>\n",
              "      <td>389.882996</td>\n",
              "      <td>408.903992</td>\n",
              "      <td>408.903992</td>\n",
              "      <td>36863600.0</td>\n",
              "    </tr>\n",
              "    <tr>\n",
              "      <th>4</th>\n",
              "      <td>2014-09-21</td>\n",
              "      <td>408.084991</td>\n",
              "      <td>412.425995</td>\n",
              "      <td>393.181000</td>\n",
              "      <td>398.821014</td>\n",
              "      <td>398.821014</td>\n",
              "      <td>26580100.0</td>\n",
              "    </tr>\n",
              "  </tbody>\n",
              "</table>\n",
              "</div>"
            ],
            "text/plain": [
              "         Date        Open        High  ...       Close   Adj Close      Volume\n",
              "0  2014-09-17  465.864014  468.174011  ...  457.334015  457.334015  21056800.0\n",
              "1  2014-09-18  456.859985  456.859985  ...  424.440002  424.440002  34483200.0\n",
              "2  2014-09-19  424.102997  427.834991  ...  394.795990  394.795990  37919700.0\n",
              "3  2014-09-20  394.673004  423.295990  ...  408.903992  408.903992  36863600.0\n",
              "4  2014-09-21  408.084991  412.425995  ...  398.821014  398.821014  26580100.0\n",
              "\n",
              "[5 rows x 7 columns]"
            ]
          },
          "metadata": {},
          "execution_count": 25
        }
      ]
    },
    {
      "cell_type": "code",
      "metadata": {
        "colab": {
          "base_uri": "https://localhost:8080/"
        },
        "id": "eCECxROzaYRD",
        "outputId": "1a19a7b3-ea6d-4731-c132-e5a827bf1ea6"
      },
      "source": [
        "df.info()"
      ],
      "execution_count": null,
      "outputs": [
        {
          "output_type": "stream",
          "name": "stdout",
          "text": [
            "<class 'pandas.core.frame.DataFrame'>\n",
            "RangeIndex: 2587 entries, 0 to 2586\n",
            "Data columns (total 7 columns):\n",
            " #   Column     Non-Null Count  Dtype  \n",
            "---  ------     --------------  -----  \n",
            " 0   Date       2587 non-null   object \n",
            " 1   Open       2583 non-null   float64\n",
            " 2   High       2583 non-null   float64\n",
            " 3   Low        2583 non-null   float64\n",
            " 4   Close      2583 non-null   float64\n",
            " 5   Adj Close  2583 non-null   float64\n",
            " 6   Volume     2583 non-null   float64\n",
            "dtypes: float64(6), object(1)\n",
            "memory usage: 141.6+ KB\n"
          ]
        }
      ]
    },
    {
      "cell_type": "code",
      "metadata": {
        "colab": {
          "base_uri": "https://localhost:8080/",
          "height": 297
        },
        "id": "9jCF0gN8TR5z",
        "outputId": "41c9a9a3-0725-4db0-cefa-417771525777"
      },
      "source": [
        "df.describe()"
      ],
      "execution_count": null,
      "outputs": [
        {
          "output_type": "execute_result",
          "data": {
            "text/html": [
              "<div>\n",
              "<style scoped>\n",
              "    .dataframe tbody tr th:only-of-type {\n",
              "        vertical-align: middle;\n",
              "    }\n",
              "\n",
              "    .dataframe tbody tr th {\n",
              "        vertical-align: top;\n",
              "    }\n",
              "\n",
              "    .dataframe thead th {\n",
              "        text-align: right;\n",
              "    }\n",
              "</style>\n",
              "<table border=\"1\" class=\"dataframe\">\n",
              "  <thead>\n",
              "    <tr style=\"text-align: right;\">\n",
              "      <th></th>\n",
              "      <th>Open</th>\n",
              "      <th>High</th>\n",
              "      <th>Low</th>\n",
              "      <th>Close</th>\n",
              "      <th>Adj Close</th>\n",
              "      <th>Volume</th>\n",
              "    </tr>\n",
              "  </thead>\n",
              "  <tbody>\n",
              "    <tr>\n",
              "      <th>count</th>\n",
              "      <td>2583.000000</td>\n",
              "      <td>2583.000000</td>\n",
              "      <td>2583.000000</td>\n",
              "      <td>2583.000000</td>\n",
              "      <td>2583.000000</td>\n",
              "      <td>2.583000e+03</td>\n",
              "    </tr>\n",
              "    <tr>\n",
              "      <th>mean</th>\n",
              "      <td>9400.048053</td>\n",
              "      <td>9668.502386</td>\n",
              "      <td>9114.186078</td>\n",
              "      <td>9422.977756</td>\n",
              "      <td>9422.977756</td>\n",
              "      <td>1.373455e+10</td>\n",
              "    </tr>\n",
              "    <tr>\n",
              "      <th>std</th>\n",
              "      <td>13775.684391</td>\n",
              "      <td>14194.890140</td>\n",
              "      <td>13319.523448</td>\n",
              "      <td>13812.089925</td>\n",
              "      <td>13812.089925</td>\n",
              "      <td>1.989676e+10</td>\n",
              "    </tr>\n",
              "    <tr>\n",
              "      <th>min</th>\n",
              "      <td>176.897003</td>\n",
              "      <td>211.731003</td>\n",
              "      <td>171.509995</td>\n",
              "      <td>178.102997</td>\n",
              "      <td>178.102997</td>\n",
              "      <td>5.914570e+06</td>\n",
              "    </tr>\n",
              "    <tr>\n",
              "      <th>25%</th>\n",
              "      <td>577.671997</td>\n",
              "      <td>582.812988</td>\n",
              "      <td>573.377502</td>\n",
              "      <td>577.486481</td>\n",
              "      <td>577.486481</td>\n",
              "      <td>7.401720e+07</td>\n",
              "    </tr>\n",
              "    <tr>\n",
              "      <th>50%</th>\n",
              "      <td>5466.524414</td>\n",
              "      <td>5633.802246</td>\n",
              "      <td>5295.877930</td>\n",
              "      <td>5505.283691</td>\n",
              "      <td>5505.283691</td>\n",
              "      <td>4.553270e+09</td>\n",
              "    </tr>\n",
              "    <tr>\n",
              "      <th>75%</th>\n",
              "      <td>9693.365235</td>\n",
              "      <td>9896.820312</td>\n",
              "      <td>9492.367188</td>\n",
              "      <td>9695.651367</td>\n",
              "      <td>9695.651367</td>\n",
              "      <td>2.218633e+10</td>\n",
              "    </tr>\n",
              "    <tr>\n",
              "      <th>max</th>\n",
              "      <td>63523.753906</td>\n",
              "      <td>64863.097656</td>\n",
              "      <td>62208.964844</td>\n",
              "      <td>63503.457031</td>\n",
              "      <td>63503.457031</td>\n",
              "      <td>3.509679e+11</td>\n",
              "    </tr>\n",
              "  </tbody>\n",
              "</table>\n",
              "</div>"
            ],
            "text/plain": [
              "               Open          High  ...     Adj Close        Volume\n",
              "count   2583.000000   2583.000000  ...   2583.000000  2.583000e+03\n",
              "mean    9400.048053   9668.502386  ...   9422.977756  1.373455e+10\n",
              "std    13775.684391  14194.890140  ...  13812.089925  1.989676e+10\n",
              "min      176.897003    211.731003  ...    178.102997  5.914570e+06\n",
              "25%      577.671997    582.812988  ...    577.486481  7.401720e+07\n",
              "50%     5466.524414   5633.802246  ...   5505.283691  4.553270e+09\n",
              "75%     9693.365235   9896.820312  ...   9695.651367  2.218633e+10\n",
              "max    63523.753906  64863.097656  ...  63503.457031  3.509679e+11\n",
              "\n",
              "[8 rows x 6 columns]"
            ]
          },
          "metadata": {},
          "execution_count": 4
        }
      ]
    },
    {
      "cell_type": "code",
      "metadata": {
        "id": "T4eilUD9YWUo"
      },
      "source": [
        "df['Date']= pd.to_datetime(df['Date']).dt.date"
      ],
      "execution_count": null,
      "outputs": []
    },
    {
      "cell_type": "code",
      "metadata": {
        "colab": {
          "base_uri": "https://localhost:8080/",
          "height": 334
        },
        "id": "4BfNsJn6Kw9f",
        "outputId": "7852b57d-ef24-4f0f-cf81-9d9602ec19c6"
      },
      "source": [
        "x = df['Date']\n",
        "y = df['Close']\n",
        "# plotting the points\n",
        "plt.plot(x,y)\n",
        "# naming the x axis\n",
        "plt.xlabel('Date')\n",
        "# naming the y axis\n",
        "plt.ylabel('Close')\n",
        "plt.show()"
      ],
      "execution_count": null,
      "outputs": [
        {
          "output_type": "display_data",
          "data": {
            "image/png": "[encoded data removed]",
            "text/plain": [
              "<Figure size 1080x360 with 1 Axes>"
            ]
          },
          "metadata": {}
        }
      ]
    },
    {
      "cell_type": "markdown",
      "metadata": {
        "id": "_ljsJaEEJAxz"
      },
      "source": [
        "**Linear Regression Model**"
      ]
    },
    {
      "cell_type": "code",
      "metadata": {
        "id": "sSr_l_cEJOpB"
      },
      "source": [
        "X = df[['Date','Open']] #removed date and adj close\n",
        "y = df['Close']"
      ],
      "execution_count": null,
      "outputs": []
    },
    {
      "cell_type": "code",
      "metadata": {
        "colab": {
          "base_uri": "https://localhost:8080/"
        },
        "id": "FCXbOqG42LaH",
        "outputId": "5115241e-cefa-4035-a32d-43acec1e0546"
      },
      "source": [
        "#convert date to a numerical value\n",
        "X['Date'] = pd.to_datetime(X['Date'])\n",
        "X['Date']=X['Date'].map(datetime.datetime.toordinal)"
      ],
      "execution_count": null,
      "outputs": [
        {
          "output_type": "stream",
          "name": "stderr",
          "text": [
            "/usr/local/lib/python3.7/dist-packages/ipykernel_launcher.py:2: SettingWithCopyWarning:\n",
            "\n",
            "\n",
            "A value is trying to be set on a copy of a slice from a DataFrame.\n",
            "Try using .loc[row_indexer,col_indexer] = value instead\n",
            "\n",
            "See the caveats in the documentation: https://pandas.pydata.org/pandas-docs/stable/user_guide/indexing.html#returning-a-view-versus-a-copy\n",
            "\n",
            "/usr/local/lib/python3.7/dist-packages/ipykernel_launcher.py:3: SettingWithCopyWarning:\n",
            "\n",
            "\n",
            "A value is trying to be set on a copy of a slice from a DataFrame.\n",
            "Try using .loc[row_indexer,col_indexer] = value instead\n",
            "\n",
            "See the caveats in the documentation: https://pandas.pydata.org/pandas-docs/stable/user_guide/indexing.html#returning-a-view-versus-a-copy\n",
            "\n"
          ]
        }
      ]
    },
    {
      "cell_type": "code",
      "metadata": {
        "colab": {
          "base_uri": "https://localhost:8080/",
          "height": 419
        },
        "id": "KsHFIUjY4Ygr",
        "outputId": "89df6ca4-7607-4dd8-a99c-a294c246e8e6"
      },
      "source": [
        "X"
      ],
      "execution_count": null,
      "outputs": [
        {
          "output_type": "execute_result",
          "data": {
            "text/html": [
              "<div>\n",
              "<style scoped>\n",
              "    .dataframe tbody tr th:only-of-type {\n",
              "        vertical-align: middle;\n",
              "    }\n",
              "\n",
              "    .dataframe tbody tr th {\n",
              "        vertical-align: top;\n",
              "    }\n",
              "\n",
              "    .dataframe thead th {\n",
              "        text-align: right;\n",
              "    }\n",
              "</style>\n",
              "<table border=\"1\" class=\"dataframe\">\n",
              "  <thead>\n",
              "    <tr style=\"text-align: right;\">\n",
              "      <th></th>\n",
              "      <th>Date</th>\n",
              "      <th>Open</th>\n",
              "    </tr>\n",
              "  </thead>\n",
              "  <tbody>\n",
              "    <tr>\n",
              "      <th>0</th>\n",
              "      <td>735493</td>\n",
              "      <td>465.864014</td>\n",
              "    </tr>\n",
              "    <tr>\n",
              "      <th>1</th>\n",
              "      <td>735494</td>\n",
              "      <td>456.859985</td>\n",
              "    </tr>\n",
              "    <tr>\n",
              "      <th>2</th>\n",
              "      <td>735495</td>\n",
              "      <td>424.102997</td>\n",
              "    </tr>\n",
              "    <tr>\n",
              "      <th>3</th>\n",
              "      <td>735496</td>\n",
              "      <td>394.673004</td>\n",
              "    </tr>\n",
              "    <tr>\n",
              "      <th>4</th>\n",
              "      <td>735497</td>\n",
              "      <td>408.084991</td>\n",
              "    </tr>\n",
              "    <tr>\n",
              "      <th>...</th>\n",
              "      <td>...</td>\n",
              "      <td>...</td>\n",
              "    </tr>\n",
              "    <tr>\n",
              "      <th>2582</th>\n",
              "      <td>738075</td>\n",
              "      <td>57526.832031</td>\n",
              "    </tr>\n",
              "    <tr>\n",
              "      <th>2583</th>\n",
              "      <td>738076</td>\n",
              "      <td>56038.257813</td>\n",
              "    </tr>\n",
              "    <tr>\n",
              "      <th>2584</th>\n",
              "      <td>738077</td>\n",
              "      <td>57372.832031</td>\n",
              "    </tr>\n",
              "    <tr>\n",
              "      <th>2585</th>\n",
              "      <td>738078</td>\n",
              "      <td>57345.902344</td>\n",
              "    </tr>\n",
              "    <tr>\n",
              "      <th>2586</th>\n",
              "      <td>738079</td>\n",
              "      <td>61495.410156</td>\n",
              "    </tr>\n",
              "  </tbody>\n",
              "</table>\n",
              "<p>2587 rows × 2 columns</p>\n",
              "</div>"
            ],
            "text/plain": [
              "        Date          Open\n",
              "0     735493    465.864014\n",
              "1     735494    456.859985\n",
              "2     735495    424.102997\n",
              "3     735496    394.673004\n",
              "4     735497    408.084991\n",
              "...      ...           ...\n",
              "2582  738075  57526.832031\n",
              "2583  738076  56038.257813\n",
              "2584  738077  57372.832031\n",
              "2585  738078  57345.902344\n",
              "2586  738079  61495.410156\n",
              "\n",
              "[2587 rows x 2 columns]"
            ]
          },
          "metadata": {},
          "execution_count": 32
        }
      ]
    },
    {
      "cell_type": "code",
      "metadata": {
        "colab": {
          "base_uri": "https://localhost:8080/"
        },
        "id": "ojxwIT-60bNw",
        "outputId": "48cf6a88-b9a2-45a7-93c2-50bd4ec9cf04"
      },
      "source": [
        "X.isnull().any()"
      ],
      "execution_count": null,
      "outputs": [
        {
          "output_type": "execute_result",
          "data": {
            "text/plain": [
              "Date    False\n",
              "Open     True\n",
              "dtype: bool"
            ]
          },
          "metadata": {},
          "execution_count": 33
        }
      ]
    },
    {
      "cell_type": "code",
      "metadata": {
        "colab": {
          "base_uri": "https://localhost:8080/"
        },
        "id": "SjEK_0QB0ggF",
        "outputId": "c5a49c30-f904-44c2-cc9b-17960ca74c13"
      },
      "source": [
        "y.isnull().any()"
      ],
      "execution_count": null,
      "outputs": [
        {
          "output_type": "execute_result",
          "data": {
            "text/plain": [
              "True"
            ]
          },
          "metadata": {},
          "execution_count": 34
        }
      ]
    },
    {
      "cell_type": "code",
      "metadata": {
        "id": "F-i-KS3F0ipr"
      },
      "source": [
        "X = X.fillna(method='ffill')\n",
        "y = y.fillna(method='ffill')"
      ],
      "execution_count": null,
      "outputs": []
    },
    {
      "cell_type": "code",
      "metadata": {
        "colab": {
          "base_uri": "https://localhost:8080/"
        },
        "id": "aQcFxyTKR7i3",
        "outputId": "eae0a061-0672-4c7b-dbf9-8758a3a1e213"
      },
      "source": [
        "X_train, X_test, y_train, y_test = train_test_split(X, y, test_size=0.20, shuffle=False)\n",
        "print('Training Observations x train: %d' % (len(X_train)))\n",
        "print('Testing Observations x test: %d' % (len(X_test)))\n",
        "print('Training Observations y train: %d' % (len(y_train)))\n",
        "print('Testing Observations y test: %d' % (len(y_test)))"
      ],
      "execution_count": null,
      "outputs": [
        {
          "output_type": "stream",
          "name": "stdout",
          "text": [
            "Training Observations x train: 2069\n",
            "Testing Observations x test: 518\n",
            "Training Observations y train: 2069\n",
            "Testing Observations y test: 518\n"
          ]
        }
      ]
    },
    {
      "cell_type": "code",
      "metadata": {
        "colab": {
          "base_uri": "https://localhost:8080/"
        },
        "id": "1f4_j3W0ShyZ",
        "outputId": "9a58b61d-e54e-4c31-b194-2f3bc87343ed"
      },
      "source": [
        "X_train.info()"
      ],
      "execution_count": null,
      "outputs": [
        {
          "output_type": "stream",
          "name": "stdout",
          "text": [
            "<class 'pandas.core.frame.DataFrame'>\n",
            "Int64Index: 2069 entries, 0 to 2068\n",
            "Data columns (total 2 columns):\n",
            " #   Column  Non-Null Count  Dtype  \n",
            "---  ------  --------------  -----  \n",
            " 0   Date    2069 non-null   int64  \n",
            " 1   Open    2069 non-null   float64\n",
            "dtypes: float64(1), int64(1)\n",
            "memory usage: 48.5 KB\n"
          ]
        }
      ]
    },
    {
      "cell_type": "code",
      "metadata": {
        "colab": {
          "base_uri": "https://localhost:8080/"
        },
        "id": "m0SVe4EOSgis",
        "outputId": "6d267fce-02e2-470b-8a99-016bbd47045b"
      },
      "source": [
        "X_test.info()"
      ],
      "execution_count": null,
      "outputs": [
        {
          "output_type": "stream",
          "name": "stdout",
          "text": [
            "<class 'pandas.core.frame.DataFrame'>\n",
            "Int64Index: 518 entries, 2069 to 2586\n",
            "Data columns (total 2 columns):\n",
            " #   Column  Non-Null Count  Dtype  \n",
            "---  ------  --------------  -----  \n",
            " 0   Date    518 non-null    int64  \n",
            " 1   Open    518 non-null    float64\n",
            "dtypes: float64(1), int64(1)\n",
            "memory usage: 12.1 KB\n"
          ]
        }
      ]
    },
    {
      "cell_type": "code",
      "metadata": {
        "colab": {
          "base_uri": "https://localhost:8080/"
        },
        "id": "Nkh94wYDLt34",
        "outputId": "40666549-2d07-4e72-aedb-5c9f7e20fd2e"
      },
      "source": [
        "y_train"
      ],
      "execution_count": null,
      "outputs": [
        {
          "output_type": "execute_result",
          "data": {
            "text/plain": [
              "0        457.334015\n",
              "1        424.440002\n",
              "2        394.795990\n",
              "3        408.903992\n",
              "4        398.821014\n",
              "           ...     \n",
              "2064    8804.477539\n",
              "2065    9269.987305\n",
              "2066    9733.721680\n",
              "2067    9328.197266\n",
              "2068    9377.013672\n",
              "Name: Close, Length: 2069, dtype: float64"
            ]
          },
          "metadata": {},
          "execution_count": 39
        }
      ]
    },
    {
      "cell_type": "code",
      "metadata": {
        "colab": {
          "base_uri": "https://localhost:8080/"
        },
        "id": "njsivlZmTThY",
        "outputId": "d57f5775-4a5d-4d27-f259-c72bdda0df28"
      },
      "source": [
        "y_test"
      ],
      "execution_count": null,
      "outputs": [
        {
          "output_type": "execute_result",
          "data": {
            "text/plain": [
              "2069     9670.739258\n",
              "2070     9726.575195\n",
              "2071     9729.038086\n",
              "2072     9522.981445\n",
              "2073     9081.761719\n",
              "            ...     \n",
              "2582    56041.058594\n",
              "2583    57401.097656\n",
              "2584    57321.523438\n",
              "2585    61593.949219\n",
              "2586    61628.851563\n",
              "Name: Close, Length: 518, dtype: float64"
            ]
          },
          "metadata": {},
          "execution_count": 40
        }
      ]
    },
    {
      "cell_type": "code",
      "metadata": {
        "id": "yBE3UTBGTilk"
      },
      "source": [
        "lm = LinearRegression()"
      ],
      "execution_count": null,
      "outputs": []
    },
    {
      "cell_type": "code",
      "metadata": {
        "colab": {
          "base_uri": "https://localhost:8080/"
        },
        "id": "QcxmdiO0pie6",
        "outputId": "aeee3b7f-399b-4205-a68b-d61edc8e5fea"
      },
      "source": [
        "lm.fit(X_train,y_train)"
      ],
      "execution_count": null,
      "outputs": [
        {
          "output_type": "execute_result",
          "data": {
            "text/plain": [
              "LinearRegression(copy_X=True, fit_intercept=True, n_jobs=None, normalize=False)"
            ]
          },
          "metadata": {},
          "execution_count": 42
        }
      ]
    },
    {
      "cell_type": "code",
      "metadata": {
        "id": "lcbOgg8GTmKi",
        "colab": {
          "base_uri": "https://localhost:8080/",
          "height": 402
        },
        "outputId": "37e4bd64-4a68-400e-ba47-64217ebdda1a"
      },
      "source": [
        "predictions = lm.predict(X_test)\n",
        "sns.regplot(y_test, predictions, ci=None)\n",
        "#plt.scatter(y_test,predictions)\n",
        "plt.xlabel(\"y_test\")\n",
        "plt.ylabel(\"predictions\")\n",
        "plt.show()"
      ],
      "execution_count": null,
      "outputs": [
        {
          "output_type": "stream",
          "name": "stderr",
          "text": [
            "/usr/local/lib/python3.7/dist-packages/seaborn/_decorators.py:43: FutureWarning:\n",
            "\n",
            "Pass the following variables as keyword args: x, y. From version 0.12, the only valid positional argument will be `data`, and passing other arguments without an explicit keyword will result in an error or misinterpretation.\n",
            "\n"
          ]
        },
        {
          "output_type": "display_data",
          "data": {
            "image/png": "[encoded data removed]",
            "text/plain": [
              "<Figure size 1080x360 with 1 Axes>"
            ]
          },
          "metadata": {}
        }
      ]
    },
    {
      "cell_type": "code",
      "metadata": {
        "colab": {
          "base_uri": "https://localhost:8080/",
          "height": 350
        },
        "id": "lF9NuB374v_T",
        "outputId": "e0336ff1-36f0-44ea-99cd-c27194fd6883"
      },
      "source": [
        "residuals = y_test - predictions\n",
        "sns.histplot(residuals)\n",
        "plt.title(\"residuals\")\n",
        "plt.show()"
      ],
      "execution_count": null,
      "outputs": [
        {
          "output_type": "display_data",
          "data": {
            "image/png": "[encoded data removed]",
            "text/plain": [
              "<Figure size 1080x360 with 1 Axes>"
            ]
          },
          "metadata": {}
        }
      ]
    },
    {
      "cell_type": "code",
      "metadata": {
        "colab": {
          "base_uri": "https://localhost:8080/"
        },
        "id": "ZbUVKPH348Tr",
        "outputId": "48158501-5455-4e78-b685-1c1aa4caec84"
      },
      "source": [
        "print('MAE:', metrics.mean_absolute_error(y_test, predictions))\n",
        "print('MSE:', metrics.mean_squared_error(y_test, predictions))\n",
        "print('RMSE:', np.sqrt(metrics.mean_squared_error(y_test, predictions)))"
      ],
      "execution_count": null,
      "outputs": [
        {
          "output_type": "stream",
          "name": "stdout",
          "text": [
            "MAE: 933.785139401044\n",
            "MSE: 2224363.113205467\n",
            "RMSE: 1491.429888799828\n"
          ]
        }
      ]
    },
    {
      "cell_type": "code",
      "metadata": {
        "colab": {
          "base_uri": "https://localhost:8080/"
        },
        "id": "wjYsXddJ49Em",
        "outputId": "6c1517df-3f0f-44f1-807d-227b130cfa5d"
      },
      "source": [
        "print('R2 Score: ', r2_score(y_test, predictions))"
      ],
      "execution_count": null,
      "outputs": [
        {
          "output_type": "stream",
          "name": "stdout",
          "text": [
            "R2 Score:  0.9928715859599644\n"
          ]
        }
      ]
    },
    {
      "cell_type": "code",
      "metadata": {
        "colab": {
          "base_uri": "https://localhost:8080/",
          "height": 111
        },
        "id": "v8q3sKyy5AJ6",
        "outputId": "e869ea6c-28af-4a5d-b8bd-a7ba07b52019"
      },
      "source": [
        "coeff_df = pd.DataFrame(lm.coef_,X.columns,columns=['Coefficient'])\n",
        "coeff_df"
      ],
      "execution_count": null,
      "outputs": [
        {
          "output_type": "execute_result",
          "data": {
            "text/html": [
              "<div>\n",
              "<style scoped>\n",
              "    .dataframe tbody tr th:only-of-type {\n",
              "        vertical-align: middle;\n",
              "    }\n",
              "\n",
              "    .dataframe tbody tr th {\n",
              "        vertical-align: top;\n",
              "    }\n",
              "\n",
              "    .dataframe thead th {\n",
              "        text-align: right;\n",
              "    }\n",
              "</style>\n",
              "<table border=\"1\" class=\"dataframe\">\n",
              "  <thead>\n",
              "    <tr style=\"text-align: right;\">\n",
              "      <th></th>\n",
              "      <th>Coefficient</th>\n",
              "    </tr>\n",
              "  </thead>\n",
              "  <tbody>\n",
              "    <tr>\n",
              "      <th>Date</th>\n",
              "      <td>0.040141</td>\n",
              "    </tr>\n",
              "    <tr>\n",
              "      <th>Open</th>\n",
              "      <td>0.992969</td>\n",
              "    </tr>\n",
              "  </tbody>\n",
              "</table>\n",
              "</div>"
            ],
            "text/plain": [
              "      Coefficient\n",
              "Date     0.040141\n",
              "Open     0.992969"
            ]
          },
          "metadata": {},
          "execution_count": 47
        }
      ]
    },
    {
      "cell_type": "markdown",
      "metadata": {
        "id": "oqDzN-TrW-Wn"
      },
      "source": [
        "**Facebook prophet prediction model (Forecast Model)**\n",
        "\n"
      ]
    },
    {
      "cell_type": "code",
      "metadata": {
        "id": "_hkzR6f7Vhum"
      },
      "source": [
        "df['Date']= pd.to_datetime(df['Date']).dt.date"
      ],
      "execution_count": null,
      "outputs": []
    },
    {
      "cell_type": "code",
      "metadata": {
        "id": "dqpp9AxRXDpY"
      },
      "source": [
        "fbModel = df.copy()\n"
      ],
      "execution_count": null,
      "outputs": []
    },
    {
      "cell_type": "code",
      "metadata": {
        "id": "xU2RJ2wbYgvO"
      },
      "source": [
        "fbModel.drop(['Open','High','Low','Adj Close','Volume'], axis = 1, inplace = True)"
      ],
      "execution_count": null,
      "outputs": []
    },
    {
      "cell_type": "code",
      "metadata": {
        "colab": {
          "base_uri": "https://localhost:8080/",
          "height": 204
        },
        "id": "EKUv6nQGYlBN",
        "outputId": "ed7f4ce8-2e2e-4e06-82af-261404feb316"
      },
      "source": [
        "fbModel.head()"
      ],
      "execution_count": null,
      "outputs": [
        {
          "output_type": "execute_result",
          "data": {
            "text/html": [
              "<div>\n",
              "<style scoped>\n",
              "    .dataframe tbody tr th:only-of-type {\n",
              "        vertical-align: middle;\n",
              "    }\n",
              "\n",
              "    .dataframe tbody tr th {\n",
              "        vertical-align: top;\n",
              "    }\n",
              "\n",
              "    .dataframe thead th {\n",
              "        text-align: right;\n",
              "    }\n",
              "</style>\n",
              "<table border=\"1\" class=\"dataframe\">\n",
              "  <thead>\n",
              "    <tr style=\"text-align: right;\">\n",
              "      <th></th>\n",
              "      <th>Date</th>\n",
              "      <th>Close</th>\n",
              "    </tr>\n",
              "  </thead>\n",
              "  <tbody>\n",
              "    <tr>\n",
              "      <th>0</th>\n",
              "      <td>2014-09-17</td>\n",
              "      <td>457.334015</td>\n",
              "    </tr>\n",
              "    <tr>\n",
              "      <th>1</th>\n",
              "      <td>2014-09-18</td>\n",
              "      <td>424.440002</td>\n",
              "    </tr>\n",
              "    <tr>\n",
              "      <th>2</th>\n",
              "      <td>2014-09-19</td>\n",
              "      <td>394.795990</td>\n",
              "    </tr>\n",
              "    <tr>\n",
              "      <th>3</th>\n",
              "      <td>2014-09-20</td>\n",
              "      <td>408.903992</td>\n",
              "    </tr>\n",
              "    <tr>\n",
              "      <th>4</th>\n",
              "      <td>2014-09-21</td>\n",
              "      <td>398.821014</td>\n",
              "    </tr>\n",
              "  </tbody>\n",
              "</table>\n",
              "</div>"
            ],
            "text/plain": [
              "         Date       Close\n",
              "0  2014-09-17  457.334015\n",
              "1  2014-09-18  424.440002\n",
              "2  2014-09-19  394.795990\n",
              "3  2014-09-20  408.903992\n",
              "4  2014-09-21  398.821014"
            ]
          },
          "metadata": {},
          "execution_count": 63
        }
      ]
    },
    {
      "cell_type": "code",
      "metadata": {
        "colab": {
          "base_uri": "https://localhost:8080/",
          "height": 204
        },
        "id": "tmo4nvynZHnJ",
        "outputId": "2ff8a1ac-5767-4f87-c60c-5a3002a39062"
      },
      "source": [
        "fbModelFull = fbModel.copy()\n",
        "fbModelFull.head()"
      ],
      "execution_count": null,
      "outputs": [
        {
          "output_type": "execute_result",
          "data": {
            "text/html": [
              "<div>\n",
              "<style scoped>\n",
              "    .dataframe tbody tr th:only-of-type {\n",
              "        vertical-align: middle;\n",
              "    }\n",
              "\n",
              "    .dataframe tbody tr th {\n",
              "        vertical-align: top;\n",
              "    }\n",
              "\n",
              "    .dataframe thead th {\n",
              "        text-align: right;\n",
              "    }\n",
              "</style>\n",
              "<table border=\"1\" class=\"dataframe\">\n",
              "  <thead>\n",
              "    <tr style=\"text-align: right;\">\n",
              "      <th></th>\n",
              "      <th>Date</th>\n",
              "      <th>Close</th>\n",
              "    </tr>\n",
              "  </thead>\n",
              "  <tbody>\n",
              "    <tr>\n",
              "      <th>0</th>\n",
              "      <td>2014-09-17</td>\n",
              "      <td>457.334015</td>\n",
              "    </tr>\n",
              "    <tr>\n",
              "      <th>1</th>\n",
              "      <td>2014-09-18</td>\n",
              "      <td>424.440002</td>\n",
              "    </tr>\n",
              "    <tr>\n",
              "      <th>2</th>\n",
              "      <td>2014-09-19</td>\n",
              "      <td>394.795990</td>\n",
              "    </tr>\n",
              "    <tr>\n",
              "      <th>3</th>\n",
              "      <td>2014-09-20</td>\n",
              "      <td>408.903992</td>\n",
              "    </tr>\n",
              "    <tr>\n",
              "      <th>4</th>\n",
              "      <td>2014-09-21</td>\n",
              "      <td>398.821014</td>\n",
              "    </tr>\n",
              "  </tbody>\n",
              "</table>\n",
              "</div>"
            ],
            "text/plain": [
              "         Date       Close\n",
              "0  2014-09-17  457.334015\n",
              "1  2014-09-18  424.440002\n",
              "2  2014-09-19  394.795990\n",
              "3  2014-09-20  408.903992\n",
              "4  2014-09-21  398.821014"
            ]
          },
          "metadata": {},
          "execution_count": 64
        }
      ]
    },
    {
      "cell_type": "code",
      "metadata": {
        "id": "sOsZrB-GZiwL"
      },
      "source": [
        "fbModel = fbModel[fbModel['Date']<datetime.date(2020,5,17)]\n",
        "fbModel.columns = ['ds','y']"
      ],
      "execution_count": null,
      "outputs": []
    },
    {
      "cell_type": "code",
      "metadata": {
        "colab": {
          "base_uri": "https://localhost:8080/",
          "height": 419
        },
        "id": "bv2Ymd_4crUr",
        "outputId": "9e29e167-d210-4c90-adc6-4d609af3a9c0"
      },
      "source": [
        "#All values up to end of 2019\n",
        "fbModel"
      ],
      "execution_count": null,
      "outputs": [
        {
          "output_type": "execute_result",
          "data": {
            "text/html": [
              "<div>\n",
              "<style scoped>\n",
              "    .dataframe tbody tr th:only-of-type {\n",
              "        vertical-align: middle;\n",
              "    }\n",
              "\n",
              "    .dataframe tbody tr th {\n",
              "        vertical-align: top;\n",
              "    }\n",
              "\n",
              "    .dataframe thead th {\n",
              "        text-align: right;\n",
              "    }\n",
              "</style>\n",
              "<table border=\"1\" class=\"dataframe\">\n",
              "  <thead>\n",
              "    <tr style=\"text-align: right;\">\n",
              "      <th></th>\n",
              "      <th>ds</th>\n",
              "      <th>y</th>\n",
              "    </tr>\n",
              "  </thead>\n",
              "  <tbody>\n",
              "    <tr>\n",
              "      <th>0</th>\n",
              "      <td>2014-09-17</td>\n",
              "      <td>457.334015</td>\n",
              "    </tr>\n",
              "    <tr>\n",
              "      <th>1</th>\n",
              "      <td>2014-09-18</td>\n",
              "      <td>424.440002</td>\n",
              "    </tr>\n",
              "    <tr>\n",
              "      <th>2</th>\n",
              "      <td>2014-09-19</td>\n",
              "      <td>394.795990</td>\n",
              "    </tr>\n",
              "    <tr>\n",
              "      <th>3</th>\n",
              "      <td>2014-09-20</td>\n",
              "      <td>408.903992</td>\n",
              "    </tr>\n",
              "    <tr>\n",
              "      <th>4</th>\n",
              "      <td>2014-09-21</td>\n",
              "      <td>398.821014</td>\n",
              "    </tr>\n",
              "    <tr>\n",
              "      <th>...</th>\n",
              "      <td>...</td>\n",
              "      <td>...</td>\n",
              "    </tr>\n",
              "    <tr>\n",
              "      <th>2064</th>\n",
              "      <td>2020-05-12</td>\n",
              "      <td>8804.477539</td>\n",
              "    </tr>\n",
              "    <tr>\n",
              "      <th>2065</th>\n",
              "      <td>2020-05-13</td>\n",
              "      <td>9269.987305</td>\n",
              "    </tr>\n",
              "    <tr>\n",
              "      <th>2066</th>\n",
              "      <td>2020-05-14</td>\n",
              "      <td>9733.721680</td>\n",
              "    </tr>\n",
              "    <tr>\n",
              "      <th>2067</th>\n",
              "      <td>2020-05-15</td>\n",
              "      <td>9328.197266</td>\n",
              "    </tr>\n",
              "    <tr>\n",
              "      <th>2068</th>\n",
              "      <td>2020-05-16</td>\n",
              "      <td>9377.013672</td>\n",
              "    </tr>\n",
              "  </tbody>\n",
              "</table>\n",
              "<p>2069 rows × 2 columns</p>\n",
              "</div>"
            ],
            "text/plain": [
              "              ds            y\n",
              "0     2014-09-17   457.334015\n",
              "1     2014-09-18   424.440002\n",
              "2     2014-09-19   394.795990\n",
              "3     2014-09-20   408.903992\n",
              "4     2014-09-21   398.821014\n",
              "...          ...          ...\n",
              "2064  2020-05-12  8804.477539\n",
              "2065  2020-05-13  9269.987305\n",
              "2066  2020-05-14  9733.721680\n",
              "2067  2020-05-15  9328.197266\n",
              "2068  2020-05-16  9377.013672\n",
              "\n",
              "[2069 rows x 2 columns]"
            ]
          },
          "metadata": {},
          "execution_count": 66
        }
      ]
    },
    {
      "cell_type": "code",
      "metadata": {
        "id": "n4STgWY7eoZp"
      },
      "source": [
        "m = Prophet(interval_width=0.95, daily_seasonality=True)\n",
        "model = m.fit(fbModel)"
      ],
      "execution_count": null,
      "outputs": []
    },
    {
      "cell_type": "code",
      "metadata": {
        "colab": {
          "base_uri": "https://localhost:8080/",
          "height": 309
        },
        "id": "48Xau4CpfWP8",
        "outputId": "5583697a-26ec-4cdd-f27c-c24a7e829029"
      },
      "source": [
        "future = m.make_future_dataframe(periods=645, freq = 'D')\n",
        "forecast = m.predict(future)\n",
        "forecast.head()"
      ],
      "execution_count": null,
      "outputs": [
        {
          "output_type": "execute_result",
          "data": {
            "text/html": [
              "<div>\n",
              "<style scoped>\n",
              "    .dataframe tbody tr th:only-of-type {\n",
              "        vertical-align: middle;\n",
              "    }\n",
              "\n",
              "    .dataframe tbody tr th {\n",
              "        vertical-align: top;\n",
              "    }\n",
              "\n",
              "    .dataframe thead th {\n",
              "        text-align: right;\n",
              "    }\n",
              "</style>\n",
              "<table border=\"1\" class=\"dataframe\">\n",
              "  <thead>\n",
              "    <tr style=\"text-align: right;\">\n",
              "      <th></th>\n",
              "      <th>ds</th>\n",
              "      <th>trend</th>\n",
              "      <th>yhat_lower</th>\n",
              "      <th>yhat_upper</th>\n",
              "      <th>trend_lower</th>\n",
              "      <th>trend_upper</th>\n",
              "      <th>additive_terms</th>\n",
              "      <th>additive_terms_lower</th>\n",
              "      <th>additive_terms_upper</th>\n",
              "      <th>daily</th>\n",
              "      <th>daily_lower</th>\n",
              "      <th>daily_upper</th>\n",
              "      <th>weekly</th>\n",
              "      <th>weekly_lower</th>\n",
              "      <th>weekly_upper</th>\n",
              "      <th>yearly</th>\n",
              "      <th>yearly_lower</th>\n",
              "      <th>yearly_upper</th>\n",
              "      <th>multiplicative_terms</th>\n",
              "      <th>multiplicative_terms_lower</th>\n",
              "      <th>multiplicative_terms_upper</th>\n",
              "      <th>yhat</th>\n",
              "    </tr>\n",
              "  </thead>\n",
              "  <tbody>\n",
              "    <tr>\n",
              "      <th>0</th>\n",
              "      <td>2014-09-17</td>\n",
              "      <td>473.761027</td>\n",
              "      <td>-1341.122305</td>\n",
              "      <td>3064.586531</td>\n",
              "      <td>473.761027</td>\n",
              "      <td>473.761027</td>\n",
              "      <td>438.120213</td>\n",
              "      <td>438.120213</td>\n",
              "      <td>438.120213</td>\n",
              "      <td>126.781371</td>\n",
              "      <td>126.781371</td>\n",
              "      <td>126.781371</td>\n",
              "      <td>-2.690514</td>\n",
              "      <td>-2.690514</td>\n",
              "      <td>-2.690514</td>\n",
              "      <td>314.029356</td>\n",
              "      <td>314.029356</td>\n",
              "      <td>314.029356</td>\n",
              "      <td>0.0</td>\n",
              "      <td>0.0</td>\n",
              "      <td>0.0</td>\n",
              "      <td>911.881239</td>\n",
              "    </tr>\n",
              "    <tr>\n",
              "      <th>1</th>\n",
              "      <td>2014-09-18</td>\n",
              "      <td>472.559029</td>\n",
              "      <td>-1500.238727</td>\n",
              "      <td>3173.325050</td>\n",
              "      <td>472.559029</td>\n",
              "      <td>472.559029</td>\n",
              "      <td>397.771777</td>\n",
              "      <td>397.771777</td>\n",
              "      <td>397.771777</td>\n",
              "      <td>126.781371</td>\n",
              "      <td>126.781371</td>\n",
              "      <td>126.781371</td>\n",
              "      <td>-12.398600</td>\n",
              "      <td>-12.398600</td>\n",
              "      <td>-12.398600</td>\n",
              "      <td>283.389007</td>\n",
              "      <td>283.389007</td>\n",
              "      <td>283.389007</td>\n",
              "      <td>0.0</td>\n",
              "      <td>0.0</td>\n",
              "      <td>0.0</td>\n",
              "      <td>870.330807</td>\n",
              "    </tr>\n",
              "    <tr>\n",
              "      <th>2</th>\n",
              "      <td>2014-09-19</td>\n",
              "      <td>471.357032</td>\n",
              "      <td>-1393.152105</td>\n",
              "      <td>3015.211826</td>\n",
              "      <td>471.357032</td>\n",
              "      <td>471.357032</td>\n",
              "      <td>384.711578</td>\n",
              "      <td>384.711578</td>\n",
              "      <td>384.711578</td>\n",
              "      <td>126.781371</td>\n",
              "      <td>126.781371</td>\n",
              "      <td>126.781371</td>\n",
              "      <td>5.716158</td>\n",
              "      <td>5.716158</td>\n",
              "      <td>5.716158</td>\n",
              "      <td>252.214049</td>\n",
              "      <td>252.214049</td>\n",
              "      <td>252.214049</td>\n",
              "      <td>0.0</td>\n",
              "      <td>0.0</td>\n",
              "      <td>0.0</td>\n",
              "      <td>856.068610</td>\n",
              "    </tr>\n",
              "    <tr>\n",
              "      <th>3</th>\n",
              "      <td>2014-09-20</td>\n",
              "      <td>470.155035</td>\n",
              "      <td>-1560.179143</td>\n",
              "      <td>2929.267746</td>\n",
              "      <td>470.155035</td>\n",
              "      <td>470.155035</td>\n",
              "      <td>356.491245</td>\n",
              "      <td>356.491245</td>\n",
              "      <td>356.491245</td>\n",
              "      <td>126.781371</td>\n",
              "      <td>126.781371</td>\n",
              "      <td>126.781371</td>\n",
              "      <td>9.171401</td>\n",
              "      <td>9.171401</td>\n",
              "      <td>9.171401</td>\n",
              "      <td>220.538474</td>\n",
              "      <td>220.538474</td>\n",
              "      <td>220.538474</td>\n",
              "      <td>0.0</td>\n",
              "      <td>0.0</td>\n",
              "      <td>0.0</td>\n",
              "      <td>826.646279</td>\n",
              "    </tr>\n",
              "    <tr>\n",
              "      <th>4</th>\n",
              "      <td>2014-09-21</td>\n",
              "      <td>468.953037</td>\n",
              "      <td>-1506.144866</td>\n",
              "      <td>2949.189082</td>\n",
              "      <td>468.953037</td>\n",
              "      <td>468.953037</td>\n",
              "      <td>310.126813</td>\n",
              "      <td>310.126813</td>\n",
              "      <td>310.126813</td>\n",
              "      <td>126.781371</td>\n",
              "      <td>126.781371</td>\n",
              "      <td>126.781371</td>\n",
              "      <td>-5.073522</td>\n",
              "      <td>-5.073522</td>\n",
              "      <td>-5.073522</td>\n",
              "      <td>188.418964</td>\n",
              "      <td>188.418964</td>\n",
              "      <td>188.418964</td>\n",
              "      <td>0.0</td>\n",
              "      <td>0.0</td>\n",
              "      <td>0.0</td>\n",
              "      <td>779.079850</td>\n",
              "    </tr>\n",
              "  </tbody>\n",
              "</table>\n",
              "</div>"
            ],
            "text/plain": [
              "          ds       trend  ...  multiplicative_terms_upper        yhat\n",
              "0 2014-09-17  473.761027  ...                         0.0  911.881239\n",
              "1 2014-09-18  472.559029  ...                         0.0  870.330807\n",
              "2 2014-09-19  471.357032  ...                         0.0  856.068610\n",
              "3 2014-09-20  470.155035  ...                         0.0  826.646279\n",
              "4 2014-09-21  468.953037  ...                         0.0  779.079850\n",
              "\n",
              "[5 rows x 22 columns]"
            ]
          },
          "metadata": {},
          "execution_count": 68
        }
      ]
    },
    {
      "cell_type": "code",
      "metadata": {
        "colab": {
          "base_uri": "https://localhost:8080/",
          "height": 309
        },
        "id": "Wft9pqnef_J3",
        "outputId": "b56ca4c5-8a7b-4036-dd7d-e65f79c98969"
      },
      "source": [
        "forecast.tail()"
      ],
      "execution_count": null,
      "outputs": [
        {
          "output_type": "execute_result",
          "data": {
            "text/html": [
              "<div>\n",
              "<style scoped>\n",
              "    .dataframe tbody tr th:only-of-type {\n",
              "        vertical-align: middle;\n",
              "    }\n",
              "\n",
              "    .dataframe tbody tr th {\n",
              "        vertical-align: top;\n",
              "    }\n",
              "\n",
              "    .dataframe thead th {\n",
              "        text-align: right;\n",
              "    }\n",
              "</style>\n",
              "<table border=\"1\" class=\"dataframe\">\n",
              "  <thead>\n",
              "    <tr style=\"text-align: right;\">\n",
              "      <th></th>\n",
              "      <th>ds</th>\n",
              "      <th>trend</th>\n",
              "      <th>yhat_lower</th>\n",
              "      <th>yhat_upper</th>\n",
              "      <th>trend_lower</th>\n",
              "      <th>trend_upper</th>\n",
              "      <th>additive_terms</th>\n",
              "      <th>additive_terms_lower</th>\n",
              "      <th>additive_terms_upper</th>\n",
              "      <th>daily</th>\n",
              "      <th>daily_lower</th>\n",
              "      <th>daily_upper</th>\n",
              "      <th>weekly</th>\n",
              "      <th>weekly_lower</th>\n",
              "      <th>weekly_upper</th>\n",
              "      <th>yearly</th>\n",
              "      <th>yearly_lower</th>\n",
              "      <th>yearly_upper</th>\n",
              "      <th>multiplicative_terms</th>\n",
              "      <th>multiplicative_terms_lower</th>\n",
              "      <th>multiplicative_terms_upper</th>\n",
              "      <th>yhat</th>\n",
              "    </tr>\n",
              "  </thead>\n",
              "  <tbody>\n",
              "    <tr>\n",
              "      <th>2709</th>\n",
              "      <td>2022-02-16</td>\n",
              "      <td>14511.595677</td>\n",
              "      <td>-14772.831792</td>\n",
              "      <td>42710.767808</td>\n",
              "      <td>-15131.884141</td>\n",
              "      <td>42979.362201</td>\n",
              "      <td>-299.434849</td>\n",
              "      <td>-299.434849</td>\n",
              "      <td>-299.434849</td>\n",
              "      <td>126.781371</td>\n",
              "      <td>126.781371</td>\n",
              "      <td>126.781371</td>\n",
              "      <td>-2.690514</td>\n",
              "      <td>-2.690514</td>\n",
              "      <td>-2.690514</td>\n",
              "      <td>-423.525706</td>\n",
              "      <td>-423.525706</td>\n",
              "      <td>-423.525706</td>\n",
              "      <td>0.0</td>\n",
              "      <td>0.0</td>\n",
              "      <td>0.0</td>\n",
              "      <td>14212.160828</td>\n",
              "    </tr>\n",
              "    <tr>\n",
              "      <th>2710</th>\n",
              "      <td>2022-02-17</td>\n",
              "      <td>14519.249158</td>\n",
              "      <td>-15808.515978</td>\n",
              "      <td>42643.693710</td>\n",
              "      <td>-15199.177885</td>\n",
              "      <td>43072.640406</td>\n",
              "      <td>-274.598617</td>\n",
              "      <td>-274.598617</td>\n",
              "      <td>-274.598617</td>\n",
              "      <td>126.781371</td>\n",
              "      <td>126.781371</td>\n",
              "      <td>126.781371</td>\n",
              "      <td>-12.398600</td>\n",
              "      <td>-12.398600</td>\n",
              "      <td>-12.398600</td>\n",
              "      <td>-388.981387</td>\n",
              "      <td>-388.981387</td>\n",
              "      <td>-388.981387</td>\n",
              "      <td>0.0</td>\n",
              "      <td>0.0</td>\n",
              "      <td>0.0</td>\n",
              "      <td>14244.650541</td>\n",
              "    </tr>\n",
              "    <tr>\n",
              "      <th>2711</th>\n",
              "      <td>2022-02-18</td>\n",
              "      <td>14526.902638</td>\n",
              "      <td>-15596.800429</td>\n",
              "      <td>43692.870669</td>\n",
              "      <td>-15266.471629</td>\n",
              "      <td>43165.918611</td>\n",
              "      <td>-223.494214</td>\n",
              "      <td>-223.494214</td>\n",
              "      <td>-223.494214</td>\n",
              "      <td>126.781371</td>\n",
              "      <td>126.781371</td>\n",
              "      <td>126.781371</td>\n",
              "      <td>5.716158</td>\n",
              "      <td>5.716158</td>\n",
              "      <td>5.716158</td>\n",
              "      <td>-355.991743</td>\n",
              "      <td>-355.991743</td>\n",
              "      <td>-355.991743</td>\n",
              "      <td>0.0</td>\n",
              "      <td>0.0</td>\n",
              "      <td>0.0</td>\n",
              "      <td>14303.408424</td>\n",
              "    </tr>\n",
              "    <tr>\n",
              "      <th>2712</th>\n",
              "      <td>2022-02-19</td>\n",
              "      <td>14534.556118</td>\n",
              "      <td>-15417.808530</td>\n",
              "      <td>42734.925903</td>\n",
              "      <td>-15333.765373</td>\n",
              "      <td>43259.196816</td>\n",
              "      <td>-189.534764</td>\n",
              "      <td>-189.534764</td>\n",
              "      <td>-189.534764</td>\n",
              "      <td>126.781371</td>\n",
              "      <td>126.781371</td>\n",
              "      <td>126.781371</td>\n",
              "      <td>9.171401</td>\n",
              "      <td>9.171401</td>\n",
              "      <td>9.171401</td>\n",
              "      <td>-325.487535</td>\n",
              "      <td>-325.487535</td>\n",
              "      <td>-325.487535</td>\n",
              "      <td>0.0</td>\n",
              "      <td>0.0</td>\n",
              "      <td>0.0</td>\n",
              "      <td>14345.021354</td>\n",
              "    </tr>\n",
              "    <tr>\n",
              "      <th>2713</th>\n",
              "      <td>2022-02-20</td>\n",
              "      <td>14542.209598</td>\n",
              "      <td>-15275.430294</td>\n",
              "      <td>43550.791540</td>\n",
              "      <td>-15401.059117</td>\n",
              "      <td>43352.475021</td>\n",
              "      <td>-176.655257</td>\n",
              "      <td>-176.655257</td>\n",
              "      <td>-176.655257</td>\n",
              "      <td>126.781371</td>\n",
              "      <td>126.781371</td>\n",
              "      <td>126.781371</td>\n",
              "      <td>-5.073522</td>\n",
              "      <td>-5.073522</td>\n",
              "      <td>-5.073522</td>\n",
              "      <td>-298.363106</td>\n",
              "      <td>-298.363106</td>\n",
              "      <td>-298.363106</td>\n",
              "      <td>0.0</td>\n",
              "      <td>0.0</td>\n",
              "      <td>0.0</td>\n",
              "      <td>14365.554341</td>\n",
              "    </tr>\n",
              "  </tbody>\n",
              "</table>\n",
              "</div>"
            ],
            "text/plain": [
              "             ds         trend  ...  multiplicative_terms_upper          yhat\n",
              "2709 2022-02-16  14511.595677  ...                         0.0  14212.160828\n",
              "2710 2022-02-17  14519.249158  ...                         0.0  14244.650541\n",
              "2711 2022-02-18  14526.902638  ...                         0.0  14303.408424\n",
              "2712 2022-02-19  14534.556118  ...                         0.0  14345.021354\n",
              "2713 2022-02-20  14542.209598  ...                         0.0  14365.554341\n",
              "\n",
              "[5 rows x 22 columns]"
            ]
          },
          "metadata": {},
          "execution_count": 69
        }
      ]
    },
    {
      "cell_type": "code",
      "metadata": {
        "colab": {
          "base_uri": "https://localhost:8080/",
          "height": 441
        },
        "id": "NfqLInYzgfZ_",
        "outputId": "28c361cb-868a-4b42-cfb2-817636aea5aa"
      },
      "source": [
        "plot1 = m.plot(forecast)\n",
        "# 80% of the data and predict the rest. "
      ],
      "execution_count": null,
      "outputs": [
        {
          "output_type": "display_data",
          "data": {
            "image/png": "[encoded data removed]",
            "text/plain": [
              "<Figure size 720x432 with 1 Axes>"
            ]
          },
          "metadata": {}
        }
      ]
    },
    {
      "cell_type": "code",
      "metadata": {
        "colab": {
          "base_uri": "https://localhost:8080/",
          "height": 873
        },
        "id": "CuCKAyJnjVlU",
        "outputId": "f1498c34-dbef-49a8-9155-2d081fd3b691"
      },
      "source": [
        "plot2 = m.plot_components(forecast)\n",
        "# outdated trends/ trends before 2020"
      ],
      "execution_count": null,
      "outputs": [
        {
          "output_type": "display_data",
          "data": {
            "image/png": "[encoded data removed]",
            "text/plain": [
              "<Figure size 648x864 with 4 Axes>"
            ]
          },
          "metadata": {}
        }
      ]
    },
    {
      "cell_type": "code",
      "metadata": {
        "colab": {
          "base_uri": "https://localhost:8080/",
          "height": 334
        },
        "id": "Xj7KLa-8grQ-",
        "outputId": "6b1ef2e9-0f79-4ea6-8689-59eaf2d11057"
      },
      "source": [
        "x = fbModelFull['Date']\n",
        "y = fbModelFull['Close']\n",
        "# plotting the points\n",
        "plt.plot(x,y)\n",
        "# naming the x axis\n",
        "plt.xlabel('Date')\n",
        "# naming the y axis\n",
        "plt.ylabel('Close')\n",
        "plt.show()\n",
        "# 100% of data/ overview of the data no predictions"
      ],
      "execution_count": null,
      "outputs": [
        {
          "output_type": "display_data",
          "data": {
            "image/png": "[encoded data removed]",
            "text/plain": [
              "<Figure size 1080x360 with 1 Axes>"
            ]
          },
          "metadata": {}
        }
      ]
    },
    {
      "cell_type": "markdown",
      "metadata": {
        "id": "8MIKDNLG5EAF"
      },
      "source": [
        "**Facebook model with all data**"
      ]
    },
    {
      "cell_type": "code",
      "metadata": {
        "id": "Vk27b0HZ5LFf"
      },
      "source": [
        "df['Date']= pd.to_datetime(df['Date']).dt.date"
      ],
      "execution_count": null,
      "outputs": []
    },
    {
      "cell_type": "code",
      "metadata": {
        "id": "lSdeXNhz5kAM"
      },
      "source": [
        "fbModel = df.copy()"
      ],
      "execution_count": null,
      "outputs": []
    },
    {
      "cell_type": "code",
      "metadata": {
        "id": "kOA-XwcE5poK"
      },
      "source": [
        "fbModel.drop(['Open','High','Low','Adj Close','Volume'], axis = 1, inplace = True)"
      ],
      "execution_count": null,
      "outputs": []
    },
    {
      "cell_type": "code",
      "metadata": {
        "colab": {
          "base_uri": "https://localhost:8080/",
          "height": 204
        },
        "id": "ldt7ihrT5rrH",
        "outputId": "25f1e055-e3c9-4b10-c634-db0bb0328689"
      },
      "source": [
        "fbModel.head()"
      ],
      "execution_count": null,
      "outputs": [
        {
          "output_type": "execute_result",
          "data": {
            "text/html": [
              "<div>\n",
              "<style scoped>\n",
              "    .dataframe tbody tr th:only-of-type {\n",
              "        vertical-align: middle;\n",
              "    }\n",
              "\n",
              "    .dataframe tbody tr th {\n",
              "        vertical-align: top;\n",
              "    }\n",
              "\n",
              "    .dataframe thead th {\n",
              "        text-align: right;\n",
              "    }\n",
              "</style>\n",
              "<table border=\"1\" class=\"dataframe\">\n",
              "  <thead>\n",
              "    <tr style=\"text-align: right;\">\n",
              "      <th></th>\n",
              "      <th>Date</th>\n",
              "      <th>Close</th>\n",
              "    </tr>\n",
              "  </thead>\n",
              "  <tbody>\n",
              "    <tr>\n",
              "      <th>0</th>\n",
              "      <td>2014-09-17</td>\n",
              "      <td>457.334015</td>\n",
              "    </tr>\n",
              "    <tr>\n",
              "      <th>1</th>\n",
              "      <td>2014-09-18</td>\n",
              "      <td>424.440002</td>\n",
              "    </tr>\n",
              "    <tr>\n",
              "      <th>2</th>\n",
              "      <td>2014-09-19</td>\n",
              "      <td>394.795990</td>\n",
              "    </tr>\n",
              "    <tr>\n",
              "      <th>3</th>\n",
              "      <td>2014-09-20</td>\n",
              "      <td>408.903992</td>\n",
              "    </tr>\n",
              "    <tr>\n",
              "      <th>4</th>\n",
              "      <td>2014-09-21</td>\n",
              "      <td>398.821014</td>\n",
              "    </tr>\n",
              "  </tbody>\n",
              "</table>\n",
              "</div>"
            ],
            "text/plain": [
              "         Date       Close\n",
              "0  2014-09-17  457.334015\n",
              "1  2014-09-18  424.440002\n",
              "2  2014-09-19  394.795990\n",
              "3  2014-09-20  408.903992\n",
              "4  2014-09-21  398.821014"
            ]
          },
          "metadata": {},
          "execution_count": 12
        }
      ]
    },
    {
      "cell_type": "code",
      "metadata": {
        "colab": {
          "base_uri": "https://localhost:8080/",
          "height": 204
        },
        "id": "8kT3EtEk5sLq",
        "outputId": "c37ad8b3-1f75-4919-81e4-130cef57a41b"
      },
      "source": [
        "fbModelFull = fbModel.copy()\n",
        "fbModelFull.head()"
      ],
      "execution_count": null,
      "outputs": [
        {
          "output_type": "execute_result",
          "data": {
            "text/html": [
              "<div>\n",
              "<style scoped>\n",
              "    .dataframe tbody tr th:only-of-type {\n",
              "        vertical-align: middle;\n",
              "    }\n",
              "\n",
              "    .dataframe tbody tr th {\n",
              "        vertical-align: top;\n",
              "    }\n",
              "\n",
              "    .dataframe thead th {\n",
              "        text-align: right;\n",
              "    }\n",
              "</style>\n",
              "<table border=\"1\" class=\"dataframe\">\n",
              "  <thead>\n",
              "    <tr style=\"text-align: right;\">\n",
              "      <th></th>\n",
              "      <th>Date</th>\n",
              "      <th>Close</th>\n",
              "    </tr>\n",
              "  </thead>\n",
              "  <tbody>\n",
              "    <tr>\n",
              "      <th>0</th>\n",
              "      <td>2014-09-17</td>\n",
              "      <td>457.334015</td>\n",
              "    </tr>\n",
              "    <tr>\n",
              "      <th>1</th>\n",
              "      <td>2014-09-18</td>\n",
              "      <td>424.440002</td>\n",
              "    </tr>\n",
              "    <tr>\n",
              "      <th>2</th>\n",
              "      <td>2014-09-19</td>\n",
              "      <td>394.795990</td>\n",
              "    </tr>\n",
              "    <tr>\n",
              "      <th>3</th>\n",
              "      <td>2014-09-20</td>\n",
              "      <td>408.903992</td>\n",
              "    </tr>\n",
              "    <tr>\n",
              "      <th>4</th>\n",
              "      <td>2014-09-21</td>\n",
              "      <td>398.821014</td>\n",
              "    </tr>\n",
              "  </tbody>\n",
              "</table>\n",
              "</div>"
            ],
            "text/plain": [
              "         Date       Close\n",
              "0  2014-09-17  457.334015\n",
              "1  2014-09-18  424.440002\n",
              "2  2014-09-19  394.795990\n",
              "3  2014-09-20  408.903992\n",
              "4  2014-09-21  398.821014"
            ]
          },
          "metadata": {},
          "execution_count": 13
        }
      ]
    },
    {
      "cell_type": "code",
      "metadata": {
        "id": "T4YjXLnJ5sf9"
      },
      "source": [
        "fbModel.columns = ['ds','y']"
      ],
      "execution_count": null,
      "outputs": []
    },
    {
      "cell_type": "code",
      "metadata": {
        "colab": {
          "base_uri": "https://localhost:8080/",
          "height": 419
        },
        "id": "gWEVB-4k5s3j",
        "outputId": "b901022b-56d0-445c-a230-c9c83c43bc26"
      },
      "source": [
        "fbModel"
      ],
      "execution_count": null,
      "outputs": [
        {
          "output_type": "execute_result",
          "data": {
            "text/html": [
              "<div>\n",
              "<style scoped>\n",
              "    .dataframe tbody tr th:only-of-type {\n",
              "        vertical-align: middle;\n",
              "    }\n",
              "\n",
              "    .dataframe tbody tr th {\n",
              "        vertical-align: top;\n",
              "    }\n",
              "\n",
              "    .dataframe thead th {\n",
              "        text-align: right;\n",
              "    }\n",
              "</style>\n",
              "<table border=\"1\" class=\"dataframe\">\n",
              "  <thead>\n",
              "    <tr style=\"text-align: right;\">\n",
              "      <th></th>\n",
              "      <th>ds</th>\n",
              "      <th>y</th>\n",
              "    </tr>\n",
              "  </thead>\n",
              "  <tbody>\n",
              "    <tr>\n",
              "      <th>0</th>\n",
              "      <td>2014-09-17</td>\n",
              "      <td>457.334015</td>\n",
              "    </tr>\n",
              "    <tr>\n",
              "      <th>1</th>\n",
              "      <td>2014-09-18</td>\n",
              "      <td>424.440002</td>\n",
              "    </tr>\n",
              "    <tr>\n",
              "      <th>2</th>\n",
              "      <td>2014-09-19</td>\n",
              "      <td>394.795990</td>\n",
              "    </tr>\n",
              "    <tr>\n",
              "      <th>3</th>\n",
              "      <td>2014-09-20</td>\n",
              "      <td>408.903992</td>\n",
              "    </tr>\n",
              "    <tr>\n",
              "      <th>4</th>\n",
              "      <td>2014-09-21</td>\n",
              "      <td>398.821014</td>\n",
              "    </tr>\n",
              "    <tr>\n",
              "      <th>...</th>\n",
              "      <td>...</td>\n",
              "      <td>...</td>\n",
              "    </tr>\n",
              "    <tr>\n",
              "      <th>2582</th>\n",
              "      <td>2021-10-12</td>\n",
              "      <td>56041.058594</td>\n",
              "    </tr>\n",
              "    <tr>\n",
              "      <th>2583</th>\n",
              "      <td>2021-10-13</td>\n",
              "      <td>57401.097656</td>\n",
              "    </tr>\n",
              "    <tr>\n",
              "      <th>2584</th>\n",
              "      <td>2021-10-14</td>\n",
              "      <td>57321.523438</td>\n",
              "    </tr>\n",
              "    <tr>\n",
              "      <th>2585</th>\n",
              "      <td>2021-10-15</td>\n",
              "      <td>61593.949219</td>\n",
              "    </tr>\n",
              "    <tr>\n",
              "      <th>2586</th>\n",
              "      <td>2021-10-16</td>\n",
              "      <td>61628.851563</td>\n",
              "    </tr>\n",
              "  </tbody>\n",
              "</table>\n",
              "<p>2587 rows × 2 columns</p>\n",
              "</div>"
            ],
            "text/plain": [
              "              ds             y\n",
              "0     2014-09-17    457.334015\n",
              "1     2014-09-18    424.440002\n",
              "2     2014-09-19    394.795990\n",
              "3     2014-09-20    408.903992\n",
              "4     2014-09-21    398.821014\n",
              "...          ...           ...\n",
              "2582  2021-10-12  56041.058594\n",
              "2583  2021-10-13  57401.097656\n",
              "2584  2021-10-14  57321.523438\n",
              "2585  2021-10-15  61593.949219\n",
              "2586  2021-10-16  61628.851563\n",
              "\n",
              "[2587 rows x 2 columns]"
            ]
          },
          "metadata": {},
          "execution_count": 15
        }
      ]
    },
    {
      "cell_type": "code",
      "metadata": {
        "colab": {
          "base_uri": "https://localhost:8080/"
        },
        "id": "tcMgOs-T5tMg",
        "outputId": "07f315fa-5563-409b-f3fd-02305cd9ab27"
      },
      "source": [
        "m = Prophet(interval_width=0.95, daily_seasonality=True)\n",
        "model = m.fit(fbModel)"
      ],
      "execution_count": null,
      "outputs": [
        {
          "output_type": "stream",
          "name": "stderr",
          "text": [
            "INFO:numexpr.utils:NumExpr defaulting to 2 threads.\n"
          ]
        }
      ]
    },
    {
      "cell_type": "code",
      "metadata": {
        "colab": {
          "base_uri": "https://localhost:8080/",
          "height": 309
        },
        "id": "cI0GqgqK6wl8",
        "outputId": "1446d4ff-62de-4ce5-9a55-1a31ab46d336"
      },
      "source": [
        "future = m.make_future_dataframe(periods=1, freq = 'D')\n",
        "forecast = m.predict(future)\n",
        "forecast.head()"
      ],
      "execution_count": null,
      "outputs": [
        {
          "output_type": "execute_result",
          "data": {
            "text/html": [
              "<div>\n",
              "<style scoped>\n",
              "    .dataframe tbody tr th:only-of-type {\n",
              "        vertical-align: middle;\n",
              "    }\n",
              "\n",
              "    .dataframe tbody tr th {\n",
              "        vertical-align: top;\n",
              "    }\n",
              "\n",
              "    .dataframe thead th {\n",
              "        text-align: right;\n",
              "    }\n",
              "</style>\n",
              "<table border=\"1\" class=\"dataframe\">\n",
              "  <thead>\n",
              "    <tr style=\"text-align: right;\">\n",
              "      <th></th>\n",
              "      <th>ds</th>\n",
              "      <th>trend</th>\n",
              "      <th>yhat_lower</th>\n",
              "      <th>yhat_upper</th>\n",
              "      <th>trend_lower</th>\n",
              "      <th>trend_upper</th>\n",
              "      <th>additive_terms</th>\n",
              "      <th>additive_terms_lower</th>\n",
              "      <th>additive_terms_upper</th>\n",
              "      <th>daily</th>\n",
              "      <th>daily_lower</th>\n",
              "      <th>daily_upper</th>\n",
              "      <th>weekly</th>\n",
              "      <th>weekly_lower</th>\n",
              "      <th>weekly_upper</th>\n",
              "      <th>yearly</th>\n",
              "      <th>yearly_lower</th>\n",
              "      <th>yearly_upper</th>\n",
              "      <th>multiplicative_terms</th>\n",
              "      <th>multiplicative_terms_lower</th>\n",
              "      <th>multiplicative_terms_upper</th>\n",
              "      <th>yhat</th>\n",
              "    </tr>\n",
              "  </thead>\n",
              "  <tbody>\n",
              "    <tr>\n",
              "      <th>0</th>\n",
              "      <td>2014-09-17</td>\n",
              "      <td>415.881911</td>\n",
              "      <td>-10496.763355</td>\n",
              "      <td>6751.199886</td>\n",
              "      <td>415.881911</td>\n",
              "      <td>415.881911</td>\n",
              "      <td>-2533.896663</td>\n",
              "      <td>-2533.896663</td>\n",
              "      <td>-2533.896663</td>\n",
              "      <td>-157.796192</td>\n",
              "      <td>-157.796192</td>\n",
              "      <td>-157.796192</td>\n",
              "      <td>-8.554073</td>\n",
              "      <td>-8.554073</td>\n",
              "      <td>-8.554073</td>\n",
              "      <td>-2367.546398</td>\n",
              "      <td>-2367.546398</td>\n",
              "      <td>-2367.546398</td>\n",
              "      <td>0.0</td>\n",
              "      <td>0.0</td>\n",
              "      <td>0.0</td>\n",
              "      <td>-2118.014752</td>\n",
              "    </tr>\n",
              "    <tr>\n",
              "      <th>1</th>\n",
              "      <td>2014-09-18</td>\n",
              "      <td>415.182408</td>\n",
              "      <td>-10532.783053</td>\n",
              "      <td>6319.497419</td>\n",
              "      <td>415.182408</td>\n",
              "      <td>415.182408</td>\n",
              "      <td>-2598.204259</td>\n",
              "      <td>-2598.204259</td>\n",
              "      <td>-2598.204259</td>\n",
              "      <td>-157.796192</td>\n",
              "      <td>-157.796192</td>\n",
              "      <td>-157.796192</td>\n",
              "      <td>-29.270135</td>\n",
              "      <td>-29.270135</td>\n",
              "      <td>-29.270135</td>\n",
              "      <td>-2411.137932</td>\n",
              "      <td>-2411.137932</td>\n",
              "      <td>-2411.137932</td>\n",
              "      <td>0.0</td>\n",
              "      <td>0.0</td>\n",
              "      <td>0.0</td>\n",
              "      <td>-2183.021851</td>\n",
              "    </tr>\n",
              "    <tr>\n",
              "      <th>2</th>\n",
              "      <td>2014-09-19</td>\n",
              "      <td>414.482905</td>\n",
              "      <td>-10421.840201</td>\n",
              "      <td>6486.891928</td>\n",
              "      <td>414.482905</td>\n",
              "      <td>414.482905</td>\n",
              "      <td>-2551.205506</td>\n",
              "      <td>-2551.205506</td>\n",
              "      <td>-2551.205506</td>\n",
              "      <td>-157.796192</td>\n",
              "      <td>-157.796192</td>\n",
              "      <td>-157.796192</td>\n",
              "      <td>53.833120</td>\n",
              "      <td>53.833120</td>\n",
              "      <td>53.833120</td>\n",
              "      <td>-2447.242434</td>\n",
              "      <td>-2447.242434</td>\n",
              "      <td>-2447.242434</td>\n",
              "      <td>0.0</td>\n",
              "      <td>0.0</td>\n",
              "      <td>0.0</td>\n",
              "      <td>-2136.722601</td>\n",
              "    </tr>\n",
              "    <tr>\n",
              "      <th>3</th>\n",
              "      <td>2014-09-20</td>\n",
              "      <td>413.783401</td>\n",
              "      <td>-11091.162917</td>\n",
              "      <td>6445.863259</td>\n",
              "      <td>413.783401</td>\n",
              "      <td>413.783401</td>\n",
              "      <td>-2601.795236</td>\n",
              "      <td>-2601.795236</td>\n",
              "      <td>-2601.795236</td>\n",
              "      <td>-157.796192</td>\n",
              "      <td>-157.796192</td>\n",
              "      <td>-157.796192</td>\n",
              "      <td>31.420078</td>\n",
              "      <td>31.420078</td>\n",
              "      <td>31.420078</td>\n",
              "      <td>-2475.419121</td>\n",
              "      <td>-2475.419121</td>\n",
              "      <td>-2475.419121</td>\n",
              "      <td>0.0</td>\n",
              "      <td>0.0</td>\n",
              "      <td>0.0</td>\n",
              "      <td>-2188.011834</td>\n",
              "    </tr>\n",
              "    <tr>\n",
              "      <th>4</th>\n",
              "      <td>2014-09-21</td>\n",
              "      <td>413.083898</td>\n",
              "      <td>-10460.747914</td>\n",
              "      <td>6477.364886</td>\n",
              "      <td>413.083898</td>\n",
              "      <td>413.083898</td>\n",
              "      <td>-2671.509784</td>\n",
              "      <td>-2671.509784</td>\n",
              "      <td>-2671.509784</td>\n",
              "      <td>-157.796192</td>\n",
              "      <td>-157.796192</td>\n",
              "      <td>-157.796192</td>\n",
              "      <td>-18.393462</td>\n",
              "      <td>-18.393462</td>\n",
              "      <td>-18.393462</td>\n",
              "      <td>-2495.320130</td>\n",
              "      <td>-2495.320130</td>\n",
              "      <td>-2495.320130</td>\n",
              "      <td>0.0</td>\n",
              "      <td>0.0</td>\n",
              "      <td>0.0</td>\n",
              "      <td>-2258.425886</td>\n",
              "    </tr>\n",
              "  </tbody>\n",
              "</table>\n",
              "</div>"
            ],
            "text/plain": [
              "          ds       trend  ...  multiplicative_terms_upper         yhat\n",
              "0 2014-09-17  415.881911  ...                         0.0 -2118.014752\n",
              "1 2014-09-18  415.182408  ...                         0.0 -2183.021851\n",
              "2 2014-09-19  414.482905  ...                         0.0 -2136.722601\n",
              "3 2014-09-20  413.783401  ...                         0.0 -2188.011834\n",
              "4 2014-09-21  413.083898  ...                         0.0 -2258.425886\n",
              "\n",
              "[5 rows x 22 columns]"
            ]
          },
          "metadata": {},
          "execution_count": 17
        }
      ]
    },
    {
      "cell_type": "code",
      "metadata": {
        "colab": {
          "base_uri": "https://localhost:8080/",
          "height": 309
        },
        "id": "5_TOQEvD6-nt",
        "outputId": "d5513b67-332b-4e36-c133-816f49627775"
      },
      "source": [
        "forecast.tail()"
      ],
      "execution_count": null,
      "outputs": [
        {
          "output_type": "execute_result",
          "data": {
            "text/html": [
              "<div>\n",
              "<style scoped>\n",
              "    .dataframe tbody tr th:only-of-type {\n",
              "        vertical-align: middle;\n",
              "    }\n",
              "\n",
              "    .dataframe tbody tr th {\n",
              "        vertical-align: top;\n",
              "    }\n",
              "\n",
              "    .dataframe thead th {\n",
              "        text-align: right;\n",
              "    }\n",
              "</style>\n",
              "<table border=\"1\" class=\"dataframe\">\n",
              "  <thead>\n",
              "    <tr style=\"text-align: right;\">\n",
              "      <th></th>\n",
              "      <th>ds</th>\n",
              "      <th>trend</th>\n",
              "      <th>yhat_lower</th>\n",
              "      <th>yhat_upper</th>\n",
              "      <th>trend_lower</th>\n",
              "      <th>trend_upper</th>\n",
              "      <th>additive_terms</th>\n",
              "      <th>additive_terms_lower</th>\n",
              "      <th>additive_terms_upper</th>\n",
              "      <th>daily</th>\n",
              "      <th>daily_lower</th>\n",
              "      <th>daily_upper</th>\n",
              "      <th>weekly</th>\n",
              "      <th>weekly_lower</th>\n",
              "      <th>weekly_upper</th>\n",
              "      <th>yearly</th>\n",
              "      <th>yearly_lower</th>\n",
              "      <th>yearly_upper</th>\n",
              "      <th>multiplicative_terms</th>\n",
              "      <th>multiplicative_terms_lower</th>\n",
              "      <th>multiplicative_terms_upper</th>\n",
              "      <th>yhat</th>\n",
              "    </tr>\n",
              "  </thead>\n",
              "  <tbody>\n",
              "    <tr>\n",
              "      <th>2583</th>\n",
              "      <td>2021-10-13</td>\n",
              "      <td>55389.571686</td>\n",
              "      <td>45415.617873</td>\n",
              "      <td>62519.738584</td>\n",
              "      <td>55389.571686</td>\n",
              "      <td>55389.571686</td>\n",
              "      <td>-1519.079398</td>\n",
              "      <td>-1519.079398</td>\n",
              "      <td>-1519.079398</td>\n",
              "      <td>-157.796192</td>\n",
              "      <td>-157.796192</td>\n",
              "      <td>-157.796192</td>\n",
              "      <td>-8.554073</td>\n",
              "      <td>-8.554073</td>\n",
              "      <td>-8.554073</td>\n",
              "      <td>-1352.729132</td>\n",
              "      <td>-1352.729132</td>\n",
              "      <td>-1352.729132</td>\n",
              "      <td>0.0</td>\n",
              "      <td>0.0</td>\n",
              "      <td>0.0</td>\n",
              "      <td>53870.492288</td>\n",
              "    </tr>\n",
              "    <tr>\n",
              "      <th>2584</th>\n",
              "      <td>2021-10-14</td>\n",
              "      <td>55482.621131</td>\n",
              "      <td>45095.602569</td>\n",
              "      <td>62608.611490</td>\n",
              "      <td>55482.621131</td>\n",
              "      <td>55482.621131</td>\n",
              "      <td>-1482.205503</td>\n",
              "      <td>-1482.205503</td>\n",
              "      <td>-1482.205503</td>\n",
              "      <td>-157.796192</td>\n",
              "      <td>-157.796192</td>\n",
              "      <td>-157.796192</td>\n",
              "      <td>-29.270135</td>\n",
              "      <td>-29.270135</td>\n",
              "      <td>-29.270135</td>\n",
              "      <td>-1295.139176</td>\n",
              "      <td>-1295.139176</td>\n",
              "      <td>-1295.139176</td>\n",
              "      <td>0.0</td>\n",
              "      <td>0.0</td>\n",
              "      <td>0.0</td>\n",
              "      <td>54000.415628</td>\n",
              "    </tr>\n",
              "    <tr>\n",
              "      <th>2585</th>\n",
              "      <td>2021-10-15</td>\n",
              "      <td>55575.670576</td>\n",
              "      <td>45369.781959</td>\n",
              "      <td>62572.768272</td>\n",
              "      <td>55575.670576</td>\n",
              "      <td>55575.670576</td>\n",
              "      <td>-1347.234902</td>\n",
              "      <td>-1347.234902</td>\n",
              "      <td>-1347.234902</td>\n",
              "      <td>-157.796192</td>\n",
              "      <td>-157.796192</td>\n",
              "      <td>-157.796192</td>\n",
              "      <td>53.833120</td>\n",
              "      <td>53.833120</td>\n",
              "      <td>53.833120</td>\n",
              "      <td>-1243.271830</td>\n",
              "      <td>-1243.271830</td>\n",
              "      <td>-1243.271830</td>\n",
              "      <td>0.0</td>\n",
              "      <td>0.0</td>\n",
              "      <td>0.0</td>\n",
              "      <td>54228.435674</td>\n",
              "    </tr>\n",
              "    <tr>\n",
              "      <th>2586</th>\n",
              "      <td>2021-10-16</td>\n",
              "      <td>55668.720021</td>\n",
              "      <td>45662.711782</td>\n",
              "      <td>62743.597127</td>\n",
              "      <td>55668.720021</td>\n",
              "      <td>55668.720021</td>\n",
              "      <td>-1323.954988</td>\n",
              "      <td>-1323.954988</td>\n",
              "      <td>-1323.954988</td>\n",
              "      <td>-157.796192</td>\n",
              "      <td>-157.796192</td>\n",
              "      <td>-157.796192</td>\n",
              "      <td>31.420078</td>\n",
              "      <td>31.420078</td>\n",
              "      <td>31.420078</td>\n",
              "      <td>-1197.578873</td>\n",
              "      <td>-1197.578873</td>\n",
              "      <td>-1197.578873</td>\n",
              "      <td>0.0</td>\n",
              "      <td>0.0</td>\n",
              "      <td>0.0</td>\n",
              "      <td>54344.765034</td>\n",
              "    </tr>\n",
              "    <tr>\n",
              "      <th>2587</th>\n",
              "      <td>2021-10-17</td>\n",
              "      <td>55761.769467</td>\n",
              "      <td>45893.179209</td>\n",
              "      <td>62241.432353</td>\n",
              "      <td>55761.769467</td>\n",
              "      <td>55761.769467</td>\n",
              "      <td>-1334.595570</td>\n",
              "      <td>-1334.595570</td>\n",
              "      <td>-1334.595570</td>\n",
              "      <td>-157.796192</td>\n",
              "      <td>-157.796192</td>\n",
              "      <td>-157.796192</td>\n",
              "      <td>-18.393462</td>\n",
              "      <td>-18.393462</td>\n",
              "      <td>-18.393462</td>\n",
              "      <td>-1158.405915</td>\n",
              "      <td>-1158.405915</td>\n",
              "      <td>-1158.405915</td>\n",
              "      <td>0.0</td>\n",
              "      <td>0.0</td>\n",
              "      <td>0.0</td>\n",
              "      <td>54427.173896</td>\n",
              "    </tr>\n",
              "  </tbody>\n",
              "</table>\n",
              "</div>"
            ],
            "text/plain": [
              "             ds         trend  ...  multiplicative_terms_upper          yhat\n",
              "2583 2021-10-13  55389.571686  ...                         0.0  53870.492288\n",
              "2584 2021-10-14  55482.621131  ...                         0.0  54000.415628\n",
              "2585 2021-10-15  55575.670576  ...                         0.0  54228.435674\n",
              "2586 2021-10-16  55668.720021  ...                         0.0  54344.765034\n",
              "2587 2021-10-17  55761.769467  ...                         0.0  54427.173896\n",
              "\n",
              "[5 rows x 22 columns]"
            ]
          },
          "metadata": {},
          "execution_count": 18
        }
      ]
    },
    {
      "cell_type": "code",
      "metadata": {
        "colab": {
          "base_uri": "https://localhost:8080/",
          "height": 441
        },
        "id": "3_csRPZa7DWd",
        "outputId": "f1d2f7ed-e090-479c-a6e5-ab0adcee0d6b"
      },
      "source": [
        "plot1 = m.plot(forecast)\n",
        "# 100% of data predicted last cell above"
      ],
      "execution_count": null,
      "outputs": [
        {
          "output_type": "display_data",
          "data": {
            "image/png": "[encoded data removed]",
            "text/plain": [
              "<Figure size 720x432 with 1 Axes>"
            ]
          },
          "metadata": {}
        }
      ]
    },
    {
      "cell_type": "code",
      "metadata": {
        "colab": {
          "base_uri": "https://localhost:8080/",
          "height": 873
        },
        "id": "AXAN8oPb7Hep",
        "outputId": "2edcd961-fc5a-4b75-b321-6290e00ead4a"
      },
      "source": [
        "plot2 = m.plot_components(forecast)"
      ],
      "execution_count": null,
      "outputs": [
        {
          "output_type": "display_data",
          "data": {
            "image/png": "[encoded data removed]",
            "text/plain": [
              "<Figure size 648x864 with 4 Axes>"
            ]
          },
          "metadata": {}
        }
      ]
    },
    {
      "cell_type": "markdown",
      "metadata": {
        "id": "LPtw6U_LAeGE"
      },
      "source": [
        "**Deep Neural Multilayer Perceptron (Neural Network Regression)**"
      ]
    },
    {
      "cell_type": "code",
      "metadata": {
        "id": "YYar_Hat_jna"
      },
      "source": [
        "Xn = df[['Date','Open']] #removed date and adj close\n",
        "yn = df['Close']\n"
      ],
      "execution_count": null,
      "outputs": []
    },
    {
      "cell_type": "code",
      "metadata": {
        "colab": {
          "base_uri": "https://localhost:8080/"
        },
        "id": "zn9FUe6mBjh4",
        "outputId": "765d7875-2ba6-4857-c1c3-db3bd593bc4a"
      },
      "source": [
        "#convert date to a numerical value\n",
        "Xn['Date'] = pd.to_datetime(Xn['Date'])\n",
        "Xn['Date']=Xn['Date'].map(datetime.datetime.toordinal)"
      ],
      "execution_count": null,
      "outputs": [
        {
          "output_type": "stream",
          "name": "stderr",
          "text": [
            "/usr/local/lib/python3.7/dist-packages/ipykernel_launcher.py:2: SettingWithCopyWarning:\n",
            "\n",
            "\n",
            "A value is trying to be set on a copy of a slice from a DataFrame.\n",
            "Try using .loc[row_indexer,col_indexer] = value instead\n",
            "\n",
            "See the caveats in the documentation: https://pandas.pydata.org/pandas-docs/stable/user_guide/indexing.html#returning-a-view-versus-a-copy\n",
            "\n",
            "/usr/local/lib/python3.7/dist-packages/ipykernel_launcher.py:3: SettingWithCopyWarning:\n",
            "\n",
            "\n",
            "A value is trying to be set on a copy of a slice from a DataFrame.\n",
            "Try using .loc[row_indexer,col_indexer] = value instead\n",
            "\n",
            "See the caveats in the documentation: https://pandas.pydata.org/pandas-docs/stable/user_guide/indexing.html#returning-a-view-versus-a-copy\n",
            "\n"
          ]
        }
      ]
    },
    {
      "cell_type": "code",
      "metadata": {
        "colab": {
          "base_uri": "https://localhost:8080/"
        },
        "id": "3Wl4Ivl6BtcF",
        "outputId": "32c5288f-d3b0-456e-fca2-530688e8b242"
      },
      "source": [
        "Xn.isnull().any()"
      ],
      "execution_count": null,
      "outputs": [
        {
          "output_type": "execute_result",
          "data": {
            "text/plain": [
              "Date    False\n",
              "Open     True\n",
              "dtype: bool"
            ]
          },
          "metadata": {},
          "execution_count": 50
        }
      ]
    },
    {
      "cell_type": "code",
      "metadata": {
        "colab": {
          "base_uri": "https://localhost:8080/"
        },
        "id": "9bYxSfVYBuoP",
        "outputId": "1701b8f2-b646-490f-e890-ba53e0cfaaa1"
      },
      "source": [
        "yn.isnull().any()"
      ],
      "execution_count": null,
      "outputs": [
        {
          "output_type": "execute_result",
          "data": {
            "text/plain": [
              "True"
            ]
          },
          "metadata": {},
          "execution_count": 51
        }
      ]
    },
    {
      "cell_type": "code",
      "metadata": {
        "id": "AxlZvx2hBCji"
      },
      "source": [
        "Xn = Xn.fillna(method='ffill')\n",
        "yn = yn.fillna(method='ffill')"
      ],
      "execution_count": null,
      "outputs": []
    },
    {
      "cell_type": "code",
      "metadata": {
        "colab": {
          "base_uri": "https://localhost:8080/"
        },
        "id": "uRe8om8GBzdS",
        "outputId": "93da324b-0024-4fac-c4c0-455c3f8b3a5f"
      },
      "source": [
        "Xn_train, Xn_test, yn_train, yn_test = train_test_split(Xn, yn, test_size=0.20, shuffle=False)\n",
        "print('Training Observations x train: %d' % (len(X_train)))\n",
        "print('Testing Observations x test: %d' % (len(X_test)))\n",
        "print('Training Observations y train: %d' % (len(y_train)))\n",
        "print('Testing Observations y test: %d' % (len(y_test)))"
      ],
      "execution_count": null,
      "outputs": [
        {
          "output_type": "stream",
          "name": "stdout",
          "text": [
            "Training Observations x train: 2069\n",
            "Testing Observations x test: 518\n",
            "Training Observations y train: 2069\n",
            "Testing Observations y test: 518\n"
          ]
        }
      ]
    },
    {
      "cell_type": "code",
      "metadata": {
        "id": "mffi1oXgCHh4"
      },
      "source": [
        "sc_X = StandardScaler()\n",
        "X_trainscaled=sc_X.fit_transform(Xn_train)\n",
        "X_testscaled=sc_X.transform(Xn_test)"
      ],
      "execution_count": null,
      "outputs": []
    },
    {
      "cell_type": "code",
      "metadata": {
        "id": "kFMCx5P0CWie"
      },
      "source": [
        "reg = MLPRegressor(hidden_layer_sizes=(64,64,64),activation=\"relu\" ,random_state=1, max_iter=2000).fit(X_trainscaled, yn_train)"
      ],
      "execution_count": null,
      "outputs": []
    },
    {
      "cell_type": "code",
      "metadata": {
        "colab": {
          "base_uri": "https://localhost:8080/"
        },
        "id": "hXVWYiKCCaeT",
        "outputId": "661a2280-9260-488f-8200-00da7b34b4b2"
      },
      "source": [
        "y_pred=reg.predict(X_testscaled)\n",
        "print(r2_score(y_pred, yn_test))"
      ],
      "execution_count": null,
      "outputs": [
        {
          "output_type": "stream",
          "name": "stdout",
          "text": [
            "0.9926632004545088\n"
          ]
        }
      ]
    },
    {
      "cell_type": "code",
      "metadata": {
        "colab": {
          "base_uri": "https://localhost:8080/"
        },
        "id": "YGurEr68M1Pp",
        "outputId": "dfa51fd4-d98f-4e48-a598-c00d06f281e9"
      },
      "source": [
        "print('MAE:', metrics.mean_absolute_error(yn_test, y_pred))\n",
        "print('MSE:', metrics.mean_squared_error(yn_test, y_pred))\n",
        "print('RMSE:', np.sqrt(metrics.mean_squared_error(yn_test, y_pred)))"
      ],
      "execution_count": null,
      "outputs": [
        {
          "output_type": "stream",
          "name": "stdout",
          "text": [
            "MAE: 941.1993845562647\n",
            "MSE: 2247874.3659603177\n",
            "RMSE: 1499.2912878958236\n"
          ]
        }
      ]
    },
    {
      "cell_type": "code",
      "metadata": {
        "colab": {
          "base_uri": "https://localhost:8080/",
          "height": 402
        },
        "id": "ENxVm8JJDTAs",
        "outputId": "8400ff01-6c15-4f83-9555-df22f3c3cd66"
      },
      "source": [
        "sns.regplot(yn_test, y_pred, ci=None)\n",
        "#plt.scatter(yn_test,y_pred)\n",
        "plt.xlabel(\"yn_test\")\n",
        "plt.ylabel(\"predictions\")\n",
        "plt.show()"
      ],
      "execution_count": null,
      "outputs": [
        {
          "output_type": "stream",
          "name": "stderr",
          "text": [
            "/usr/local/lib/python3.7/dist-packages/seaborn/_decorators.py:43: FutureWarning:\n",
            "\n",
            "Pass the following variables as keyword args: x, y. From version 0.12, the only valid positional argument will be `data`, and passing other arguments without an explicit keyword will result in an error or misinterpretation.\n",
            "\n"
          ]
        },
        {
          "output_type": "display_data",
          "data": {
            "image/png": "[encoded data removed]",
            "text/plain": [
              "<Figure size 1080x360 with 1 Axes>"
            ]
          },
          "metadata": {}
        }
      ]
    },
    {
      "cell_type": "code",
      "metadata": {
        "colab": {
          "base_uri": "https://localhost:8080/",
          "height": 350
        },
        "id": "zKKo2e9tFwOS",
        "outputId": "f89e3309-39dc-435a-bab0-cc4b77936568"
      },
      "source": [
        "residualsN = yn_test - y_pred\n",
        "sns.histplot(residualsN)\n",
        "plt.title(\"residuals ANN\")\n",
        "plt.show()"
      ],
      "execution_count": null,
      "outputs": [
        {
          "output_type": "display_data",
          "data": {
            "image/png": "[encoded data removed]",
            "text/plain": [
              "<Figure size 1080x360 with 1 Axes>"
            ]
          },
          "metadata": {}
        }
      ]
    },
    {
      "cell_type": "markdown",
      "metadata": {
        "id": "XDNZ1j6IGY5h"
      },
      "source": [
        "**Stacked LSTM (Long Short Term Memory)**"
      ]
    },
    {
      "cell_type": "code",
      "metadata": {
        "id": "oz49_cyaGWmX"
      },
      "source": [
        "LSTM = df['Close'].copy()\n",
        "train_dates = pd.to_datetime(df['Date'])\n"
      ],
      "execution_count": null,
      "outputs": []
    },
    {
      "cell_type": "code",
      "metadata": {
        "id": "C05HjlsZxxqf"
      },
      "source": [
        "LSTM = LSTM.fillna(method='ffill')"
      ],
      "execution_count": null,
      "outputs": []
    },
    {
      "cell_type": "code",
      "metadata": {
        "id": "ChAs1UHZyJ8J"
      },
      "source": [
        "scaler=MinMaxScaler(feature_range=(0,1))\n",
        "df1=scaler.fit_transform(np.array(LSTM).reshape(-1,1))"
      ],
      "execution_count": null,
      "outputs": []
    },
    {
      "cell_type": "code",
      "metadata": {
        "colab": {
          "base_uri": "https://localhost:8080/"
        },
        "id": "GVGKMHG94Zwi",
        "outputId": "9303ebf3-258e-48e2-f468-13b41204337f"
      },
      "source": [
        "print(df1)"
      ],
      "execution_count": null,
      "outputs": [
        {
          "output_type": "stream",
          "name": "stdout",
          "text": [
            "[[0.00440947]\n",
            " [0.00389002]\n",
            " [0.0034219 ]\n",
            " ...\n",
            " [0.90237822]\n",
            " [0.96984608]\n",
            " [0.97039724]]\n"
          ]
        }
      ]
    },
    {
      "cell_type": "code",
      "metadata": {
        "id": "ITETOLFm6UnJ"
      },
      "source": [
        "##splitting dataset into train and test split\n",
        "training_size=int(len(df1)*0.80)\n",
        "test_size=len(df1)-training_size\n",
        "train_data,test_data=df1[0:training_size,:],df1[training_size:len(df1),:1]"
      ],
      "execution_count": null,
      "outputs": []
    },
    {
      "cell_type": "code",
      "metadata": {
        "colab": {
          "base_uri": "https://localhost:8080/"
        },
        "id": "04OxhwxpxuC9",
        "outputId": "b361fa21-6b7d-4c6f-97df-aa69b0683fd3"
      },
      "source": [
        "training_size,test_size"
      ],
      "execution_count": null,
      "outputs": [
        {
          "output_type": "execute_result",
          "data": {
            "text/plain": [
              "(2069, 518)"
            ]
          },
          "metadata": {},
          "execution_count": 163
        }
      ]
    },
    {
      "cell_type": "code",
      "metadata": {
        "id": "Vm8sWb5r1mUj"
      },
      "source": [
        "def create_dataset(dataset, time_step=1):\n",
        "\tdataX, dataY = [], []\n",
        "\tfor i in range(len(dataset)-time_step-1):\n",
        "\t\ta = dataset[i:(i+time_step), 0]   ###i=0, 0,1,2,3-----99   100 \n",
        "\t\tdataX.append(a)\n",
        "\t\tdataY.append(dataset[i + time_step, 0])\n",
        "\treturn np.array(dataX), np.array(dataY)"
      ],
      "execution_count": null,
      "outputs": []
    },
    {
      "cell_type": "code",
      "metadata": {
        "id": "7kEGkd6icR2m"
      },
      "source": [
        "# reshape into X=t,t+1,t+2,t+3 and Y=t+4\n",
        "time_step = 100 #uses previous 100 days to predict next day\n",
        "X_train, y_train = create_dataset(train_data, time_step)\n",
        "X_test, ytest = create_dataset(test_data, time_step)\n"
      ],
      "execution_count": null,
      "outputs": []
    },
    {
      "cell_type": "code",
      "metadata": {
        "colab": {
          "base_uri": "https://localhost:8080/"
        },
        "id": "VihrJjGq9wqo",
        "outputId": "cc9d6984-d1f0-4a21-b5e4-8c69332b9c2a"
      },
      "source": [
        "print(X_train.shape), print(y_train.shape)"
      ],
      "execution_count": null,
      "outputs": [
        {
          "output_type": "stream",
          "name": "stdout",
          "text": [
            "(1968, 100)\n",
            "(1968,)\n"
          ]
        },
        {
          "output_type": "execute_result",
          "data": {
            "text/plain": [
              "(None, None)"
            ]
          },
          "metadata": {},
          "execution_count": 168
        }
      ]
    },
    {
      "cell_type": "code",
      "metadata": {
        "colab": {
          "base_uri": "https://localhost:8080/"
        },
        "id": "fmLj57J4-Pgf",
        "outputId": "f675dedf-8771-4913-a542-b8a261f7b0c0"
      },
      "source": [
        "print(X_test.shape), print(ytest.shape)"
      ],
      "execution_count": null,
      "outputs": [
        {
          "output_type": "stream",
          "name": "stdout",
          "text": [
            "(417, 100)\n",
            "(417,)\n"
          ]
        },
        {
          "output_type": "execute_result",
          "data": {
            "text/plain": [
              "(None, None)"
            ]
          },
          "metadata": {},
          "execution_count": 169
        }
      ]
    },
    {
      "cell_type": "code",
      "metadata": {
        "id": "2n4rwGyXuEDO"
      },
      "source": [
        "# reshape input to be [samples, time steps, features] which is required for LSTM\n",
        "X_train =X_train.reshape(X_train.shape[0],X_train.shape[1] , 1)\n",
        "X_test = X_test.reshape(X_test.shape[0],X_test.shape[1] , 1)"
      ],
      "execution_count": null,
      "outputs": []
    },
    {
      "cell_type": "code",
      "metadata": {
        "id": "JWxHk3DMDr-k"
      },
      "source": [
        "from tensorflow.keras.models import Sequential\n",
        "from tensorflow.keras.layers import Dense\n",
        "from tensorflow.keras.layers import LSTM"
      ],
      "execution_count": null,
      "outputs": []
    },
    {
      "cell_type": "code",
      "metadata": {
        "id": "mz6AqKwlkBlL"
      },
      "source": [
        "model=Sequential()\n",
        "model.add(LSTM(50,return_sequences=True,input_shape=(100,1)))\n",
        "model.add(LSTM(50,return_sequences=True))\n",
        "model.add(LSTM(50))\n",
        "model.add(Dense(1))\n",
        "model.compile(loss='mean_squared_error',optimizer='adam')"
      ],
      "execution_count": null,
      "outputs": []
    },
    {
      "cell_type": "code",
      "metadata": {
        "colab": {
          "base_uri": "https://localhost:8080/"
        },
        "id": "AwPKAXErNvgZ",
        "outputId": "d28f6532-5e03-40c9-837a-f1c9f87a44a8"
      },
      "source": [
        "model.summary()"
      ],
      "execution_count": null,
      "outputs": [
        {
          "output_type": "stream",
          "name": "stdout",
          "text": [
            "Model: \"sequential_10\"\n",
            "_________________________________________________________________\n",
            "Layer (type)                 Output Shape              Param #   \n",
            "=================================================================\n",
            "lstm (LSTM)                  (None, 100, 50)           10400     \n",
            "_________________________________________________________________\n",
            "lstm_1 (LSTM)                (None, 100, 50)           20200     \n",
            "_________________________________________________________________\n",
            "lstm_2 (LSTM)                (None, 50)                20200     \n",
            "_________________________________________________________________\n",
            "dense (Dense)                (None, 1)                 51        \n",
            "=================================================================\n",
            "Total params: 50,851\n",
            "Trainable params: 50,851\n",
            "Non-trainable params: 0\n",
            "_________________________________________________________________\n"
          ]
        }
      ]
    },
    {
      "cell_type": "code",
      "metadata": {
        "colab": {
          "base_uri": "https://localhost:8080/"
        },
        "id": "kAvydVRrD-g0",
        "outputId": "66ceb61a-1e5e-4cb6-e784-9a9149aa7566"
      },
      "source": [
        "model.fit(X_train,y_train,validation_data=(X_test,ytest),epochs=100,batch_size=64,verbose=1)"
      ],
      "execution_count": null,
      "outputs": [
        {
          "output_type": "stream",
          "name": "stdout",
          "text": [
            "Epoch 1/100\n",
            "31/31 [==============================] - 12s 211ms/step - loss: 9.4062e-04 - val_loss: 0.0172\n",
            "Epoch 2/100\n",
            "31/31 [==============================] - 5s 175ms/step - loss: 1.9891e-04 - val_loss: 0.0100\n",
            "Epoch 3/100\n",
            "31/31 [==============================] - 5s 172ms/step - loss: 1.7233e-04 - val_loss: 0.0183\n",
            "Epoch 4/100\n",
            "31/31 [==============================] - 5s 174ms/step - loss: 1.4897e-04 - val_loss: 0.0289\n",
            "Epoch 5/100\n",
            "31/31 [==============================] - 5s 173ms/step - loss: 1.3833e-04 - val_loss: 0.0253\n",
            "Epoch 6/100\n",
            "31/31 [==============================] - 5s 172ms/step - loss: 1.2472e-04 - val_loss: 0.0171\n",
            "Epoch 7/100\n",
            "31/31 [==============================] - 5s 173ms/step - loss: 1.2765e-04 - val_loss: 0.0300\n",
            "Epoch 8/100\n",
            "31/31 [==============================] - 5s 170ms/step - loss: 1.1414e-04 - val_loss: 0.0346\n",
            "Epoch 9/100\n",
            "31/31 [==============================] - 5s 171ms/step - loss: 1.1491e-04 - val_loss: 0.0355\n",
            "Epoch 10/100\n",
            "31/31 [==============================] - 5s 174ms/step - loss: 1.0573e-04 - val_loss: 0.0361\n",
            "Epoch 11/100\n",
            "31/31 [==============================] - 5s 173ms/step - loss: 9.8609e-05 - val_loss: 0.0323\n",
            "Epoch 12/100\n",
            "31/31 [==============================] - 5s 173ms/step - loss: 8.9296e-05 - val_loss: 0.0231\n",
            "Epoch 13/100\n",
            "31/31 [==============================] - 5s 175ms/step - loss: 1.0075e-04 - val_loss: 0.0240\n",
            "Epoch 14/100\n",
            "31/31 [==============================] - 5s 173ms/step - loss: 1.0035e-04 - val_loss: 0.0187\n",
            "Epoch 15/100\n",
            "31/31 [==============================] - 5s 175ms/step - loss: 8.3981e-05 - val_loss: 0.0190\n",
            "Epoch 16/100\n",
            "31/31 [==============================] - 5s 176ms/step - loss: 8.6491e-05 - val_loss: 0.0283\n",
            "Epoch 17/100\n",
            "31/31 [==============================] - 5s 174ms/step - loss: 1.0202e-04 - val_loss: 0.0185\n",
            "Epoch 18/100\n",
            "31/31 [==============================] - 5s 173ms/step - loss: 8.7095e-05 - val_loss: 0.0242\n",
            "Epoch 19/100\n",
            "31/31 [==============================] - 5s 173ms/step - loss: 8.4625e-05 - val_loss: 0.0187\n",
            "Epoch 20/100\n",
            "31/31 [==============================] - 5s 174ms/step - loss: 8.1224e-05 - val_loss: 0.0172\n",
            "Epoch 21/100\n",
            "31/31 [==============================] - 5s 173ms/step - loss: 7.9185e-05 - val_loss: 0.0116\n",
            "Epoch 22/100\n",
            "31/31 [==============================] - 5s 176ms/step - loss: 7.4264e-05 - val_loss: 0.0214\n",
            "Epoch 23/100\n",
            "31/31 [==============================] - 5s 176ms/step - loss: 6.8875e-05 - val_loss: 0.0091\n",
            "Epoch 24/100\n",
            "31/31 [==============================] - 5s 175ms/step - loss: 6.5673e-05 - val_loss: 0.0151\n",
            "Epoch 25/100\n",
            "31/31 [==============================] - 5s 174ms/step - loss: 6.7897e-05 - val_loss: 0.0156\n",
            "Epoch 26/100\n",
            "31/31 [==============================] - 5s 174ms/step - loss: 6.5252e-05 - val_loss: 0.0148\n",
            "Epoch 27/100\n",
            "31/31 [==============================] - 5s 174ms/step - loss: 7.1467e-05 - val_loss: 0.0197\n",
            "Epoch 28/100\n",
            "31/31 [==============================] - 5s 175ms/step - loss: 6.3870e-05 - val_loss: 0.0108\n",
            "Epoch 29/100\n",
            "31/31 [==============================] - 5s 176ms/step - loss: 5.6440e-05 - val_loss: 0.0124\n",
            "Epoch 30/100\n",
            "31/31 [==============================] - 5s 175ms/step - loss: 5.9978e-05 - val_loss: 0.0147\n",
            "Epoch 31/100\n",
            "31/31 [==============================] - 5s 173ms/step - loss: 5.9564e-05 - val_loss: 0.0119\n",
            "Epoch 32/100\n",
            "31/31 [==============================] - 5s 174ms/step - loss: 6.0297e-05 - val_loss: 0.0093\n",
            "Epoch 33/100\n",
            "31/31 [==============================] - 5s 175ms/step - loss: 5.4441e-05 - val_loss: 0.0116\n",
            "Epoch 34/100\n",
            "31/31 [==============================] - 5s 175ms/step - loss: 5.8861e-05 - val_loss: 0.0113\n",
            "Epoch 35/100\n",
            "31/31 [==============================] - 5s 176ms/step - loss: 5.6407e-05 - val_loss: 0.0123\n",
            "Epoch 36/100\n",
            "31/31 [==============================] - 5s 174ms/step - loss: 5.5678e-05 - val_loss: 0.0102\n",
            "Epoch 37/100\n",
            "31/31 [==============================] - 5s 174ms/step - loss: 5.0806e-05 - val_loss: 0.0175\n",
            "Epoch 38/100\n",
            "31/31 [==============================] - 5s 175ms/step - loss: 5.9190e-05 - val_loss: 0.0108\n",
            "Epoch 39/100\n",
            "31/31 [==============================] - 5s 175ms/step - loss: 4.8378e-05 - val_loss: 0.0101\n",
            "Epoch 40/100\n",
            "31/31 [==============================] - 5s 175ms/step - loss: 4.7620e-05 - val_loss: 0.0113\n",
            "Epoch 41/100\n",
            "31/31 [==============================] - 5s 175ms/step - loss: 5.3553e-05 - val_loss: 0.0114\n",
            "Epoch 42/100\n",
            "31/31 [==============================] - 5s 175ms/step - loss: 4.9998e-05 - val_loss: 0.0084\n",
            "Epoch 43/100\n",
            "31/31 [==============================] - 5s 177ms/step - loss: 4.6835e-05 - val_loss: 0.0127\n",
            "Epoch 44/100\n",
            "31/31 [==============================] - 5s 175ms/step - loss: 4.4389e-05 - val_loss: 0.0103\n",
            "Epoch 45/100\n",
            "31/31 [==============================] - 5s 176ms/step - loss: 4.5456e-05 - val_loss: 0.0098\n",
            "Epoch 46/100\n",
            "31/31 [==============================] - 5s 175ms/step - loss: 4.4733e-05 - val_loss: 0.0070\n",
            "Epoch 47/100\n",
            "31/31 [==============================] - 5s 177ms/step - loss: 4.3839e-05 - val_loss: 0.0090\n",
            "Epoch 48/100\n",
            "31/31 [==============================] - 5s 176ms/step - loss: 4.0317e-05 - val_loss: 0.0092\n",
            "Epoch 49/100\n",
            "31/31 [==============================] - 5s 175ms/step - loss: 4.3047e-05 - val_loss: 0.0094\n",
            "Epoch 50/100\n",
            "31/31 [==============================] - 5s 175ms/step - loss: 4.0858e-05 - val_loss: 0.0106\n",
            "Epoch 51/100\n",
            "31/31 [==============================] - 5s 175ms/step - loss: 3.9713e-05 - val_loss: 0.0109\n",
            "Epoch 52/100\n",
            "31/31 [==============================] - 5s 175ms/step - loss: 4.6900e-05 - val_loss: 0.0091\n",
            "Epoch 53/100\n",
            "31/31 [==============================] - 5s 176ms/step - loss: 4.0541e-05 - val_loss: 0.0087\n",
            "Epoch 54/100\n",
            "31/31 [==============================] - 5s 175ms/step - loss: 3.9586e-05 - val_loss: 0.0087\n",
            "Epoch 55/100\n",
            "31/31 [==============================] - 5s 174ms/step - loss: 3.4404e-05 - val_loss: 0.0058\n",
            "Epoch 56/100\n",
            "31/31 [==============================] - 5s 177ms/step - loss: 3.7636e-05 - val_loss: 0.0085\n",
            "Epoch 57/100\n",
            "31/31 [==============================] - 5s 177ms/step - loss: 3.5982e-05 - val_loss: 0.0068\n",
            "Epoch 58/100\n",
            "31/31 [==============================] - 5s 175ms/step - loss: 3.6947e-05 - val_loss: 0.0052\n",
            "Epoch 59/100\n",
            "31/31 [==============================] - 5s 175ms/step - loss: 3.8367e-05 - val_loss: 0.0056\n",
            "Epoch 60/100\n",
            "31/31 [==============================] - 5s 175ms/step - loss: 3.3338e-05 - val_loss: 0.0066\n",
            "Epoch 61/100\n",
            "31/31 [==============================] - 5s 176ms/step - loss: 3.8637e-05 - val_loss: 0.0101\n",
            "Epoch 62/100\n",
            "31/31 [==============================] - 5s 176ms/step - loss: 3.4887e-05 - val_loss: 0.0069\n",
            "Epoch 63/100\n",
            "31/31 [==============================] - 5s 173ms/step - loss: 3.2906e-05 - val_loss: 0.0062\n",
            "Epoch 64/100\n",
            "31/31 [==============================] - 5s 175ms/step - loss: 3.1710e-05 - val_loss: 0.0091\n",
            "Epoch 65/100\n",
            "31/31 [==============================] - 5s 177ms/step - loss: 3.1566e-05 - val_loss: 0.0079\n",
            "Epoch 66/100\n",
            "31/31 [==============================] - 5s 176ms/step - loss: 3.8908e-05 - val_loss: 0.0110\n",
            "Epoch 67/100\n",
            "31/31 [==============================] - 5s 176ms/step - loss: 3.4441e-05 - val_loss: 0.0055\n",
            "Epoch 68/100\n",
            "31/31 [==============================] - 5s 177ms/step - loss: 2.7934e-05 - val_loss: 0.0068\n",
            "Epoch 69/100\n",
            "31/31 [==============================] - 5s 176ms/step - loss: 2.9288e-05 - val_loss: 0.0051\n",
            "Epoch 70/100\n",
            "31/31 [==============================] - 5s 177ms/step - loss: 3.3859e-05 - val_loss: 0.0037\n",
            "Epoch 71/100\n",
            "31/31 [==============================] - 5s 177ms/step - loss: 2.7361e-05 - val_loss: 0.0058\n",
            "Epoch 72/100\n",
            "31/31 [==============================] - 5s 176ms/step - loss: 2.8372e-05 - val_loss: 0.0064\n",
            "Epoch 73/100\n",
            "31/31 [==============================] - 5s 176ms/step - loss: 3.0856e-05 - val_loss: 0.0071\n",
            "Epoch 74/100\n",
            "31/31 [==============================] - 5s 177ms/step - loss: 2.6203e-05 - val_loss: 0.0052\n",
            "Epoch 75/100\n",
            "31/31 [==============================] - 5s 175ms/step - loss: 3.0145e-05 - val_loss: 0.0048\n",
            "Epoch 76/100\n",
            "31/31 [==============================] - 5s 176ms/step - loss: 3.0092e-05 - val_loss: 0.0046\n",
            "Epoch 77/100\n",
            "31/31 [==============================] - 5s 177ms/step - loss: 2.8707e-05 - val_loss: 0.0042\n",
            "Epoch 78/100\n",
            "31/31 [==============================] - 5s 176ms/step - loss: 3.3254e-05 - val_loss: 0.0041\n",
            "Epoch 79/100\n",
            "31/31 [==============================] - 5s 178ms/step - loss: 2.9046e-05 - val_loss: 0.0052\n",
            "Epoch 80/100\n",
            "31/31 [==============================] - 5s 177ms/step - loss: 2.7614e-05 - val_loss: 0.0061\n",
            "Epoch 81/100\n",
            "31/31 [==============================] - 6s 178ms/step - loss: 2.3773e-05 - val_loss: 0.0060\n",
            "Epoch 82/100\n",
            "31/31 [==============================] - 5s 175ms/step - loss: 2.5578e-05 - val_loss: 0.0044\n",
            "Epoch 83/100\n",
            "31/31 [==============================] - 5s 177ms/step - loss: 2.6030e-05 - val_loss: 0.0058\n",
            "Epoch 84/100\n",
            "31/31 [==============================] - 5s 175ms/step - loss: 2.4351e-05 - val_loss: 0.0053\n",
            "Epoch 85/100\n",
            "31/31 [==============================] - 5s 177ms/step - loss: 2.6938e-05 - val_loss: 0.0072\n",
            "Epoch 86/100\n",
            "31/31 [==============================] - 5s 175ms/step - loss: 2.8538e-05 - val_loss: 0.0060\n",
            "Epoch 87/100\n",
            "31/31 [==============================] - 5s 177ms/step - loss: 2.8575e-05 - val_loss: 0.0077\n",
            "Epoch 88/100\n",
            "31/31 [==============================] - 5s 176ms/step - loss: 2.5842e-05 - val_loss: 0.0057\n",
            "Epoch 89/100\n",
            "31/31 [==============================] - 5s 178ms/step - loss: 2.3663e-05 - val_loss: 0.0067\n",
            "Epoch 90/100\n",
            "31/31 [==============================] - 5s 178ms/step - loss: 2.6469e-05 - val_loss: 0.0069\n",
            "Epoch 91/100\n",
            "31/31 [==============================] - 6s 178ms/step - loss: 2.8049e-05 - val_loss: 0.0072\n",
            "Epoch 92/100\n",
            "31/31 [==============================] - 5s 177ms/step - loss: 2.5001e-05 - val_loss: 0.0057\n",
            "Epoch 93/100\n",
            "31/31 [==============================] - 5s 176ms/step - loss: 2.4960e-05 - val_loss: 0.0044\n",
            "Epoch 94/100\n",
            "31/31 [==============================] - 6s 178ms/step - loss: 2.8090e-05 - val_loss: 0.0055\n",
            "Epoch 95/100\n",
            "31/31 [==============================] - 5s 177ms/step - loss: 2.5584e-05 - val_loss: 0.0077\n",
            "Epoch 96/100\n",
            "31/31 [==============================] - 5s 177ms/step - loss: 2.4144e-05 - val_loss: 0.0056\n",
            "Epoch 97/100\n",
            "31/31 [==============================] - 5s 175ms/step - loss: 2.5211e-05 - val_loss: 0.0052\n",
            "Epoch 98/100\n",
            "31/31 [==============================] - 5s 176ms/step - loss: 2.4204e-05 - val_loss: 0.0049\n",
            "Epoch 99/100\n",
            "31/31 [==============================] - 5s 176ms/step - loss: 2.3894e-05 - val_loss: 0.0051\n",
            "Epoch 100/100\n",
            "31/31 [==============================] - 5s 174ms/step - loss: 2.4168e-05 - val_loss: 0.0069\n"
          ]
        },
        {
          "output_type": "execute_result",
          "data": {
            "text/plain": [
              "<keras.callbacks.History at 0x7fd44f7e2190>"
            ]
          },
          "metadata": {},
          "execution_count": 176
        }
      ]
    },
    {
      "cell_type": "code",
      "metadata": {
        "id": "xBW38VKQGLhZ"
      },
      "source": [
        "import tensorflow as tf"
      ],
      "execution_count": null,
      "outputs": []
    },
    {
      "cell_type": "code",
      "metadata": {
        "colab": {
          "base_uri": "https://localhost:8080/",
          "height": 35
        },
        "id": "xjPvVilvGN6C",
        "outputId": "50f12e12-5628-4938-ea6a-94fae593b321"
      },
      "source": [
        "tf.__version__"
      ],
      "execution_count": null,
      "outputs": [
        {
          "output_type": "execute_result",
          "data": {
            "application/vnd.google.colaboratory.intrinsic+json": {
              "type": "string"
            },
            "text/plain": [
              "'2.6.0'"
            ]
          },
          "metadata": {},
          "execution_count": 178
        }
      ]
    },
    {
      "cell_type": "code",
      "metadata": {
        "id": "dwggp0JFGP6Y"
      },
      "source": [
        "train_predict=model.predict(X_train)\n",
        "test_predict=model.predict(X_test)"
      ],
      "execution_count": null,
      "outputs": []
    },
    {
      "cell_type": "code",
      "metadata": {
        "id": "hJDa40DZGQM4"
      },
      "source": [
        "train_predict=scaler.inverse_transform(train_predict)\n",
        "test_predict=scaler.inverse_transform(test_predict)"
      ],
      "execution_count": null,
      "outputs": []
    },
    {
      "cell_type": "code",
      "metadata": {
        "colab": {
          "base_uri": "https://localhost:8080/"
        },
        "id": "Q0FqS7z4GQfD",
        "outputId": "b009255c-1b33-44d6-b78b-7a3b3b33843f"
      },
      "source": [
        "import math\n",
        "from sklearn.metrics import mean_squared_error\n",
        "math.sqrt(mean_squared_error(y_train,train_predict))"
      ],
      "execution_count": null,
      "outputs": [
        {
          "output_type": "execute_result",
          "data": {
            "text/plain": [
              "5754.896064123879"
            ]
          },
          "metadata": {},
          "execution_count": 181
        }
      ]
    },
    {
      "cell_type": "code",
      "metadata": {
        "colab": {
          "base_uri": "https://localhost:8080/"
        },
        "id": "EYc8J8hNGaK_",
        "outputId": "d14f1964-c1bf-4aed-a9ea-20f831f2bdad"
      },
      "source": [
        "math.sqrt(mean_squared_error(ytest,test_predict))"
      ],
      "execution_count": null,
      "outputs": [
        {
          "output_type": "execute_result",
          "data": {
            "text/plain": [
              "35220.76530703928"
            ]
          },
          "metadata": {},
          "execution_count": 182
        }
      ]
    },
    {
      "cell_type": "code",
      "metadata": {
        "colab": {
          "base_uri": "https://localhost:8080/",
          "height": 320
        },
        "id": "eLAO6IhfGeb8",
        "outputId": "baeb9dd7-c026-4335-8b9a-edee891f625d"
      },
      "source": [
        "### Plotting \n",
        "# shift train predictions for plotting\n",
        "look_back=100\n",
        "trainPredictPlot = np.empty_like(df1)\n",
        "trainPredictPlot[:, :] = np.nan\n",
        "trainPredictPlot[look_back:len(train_predict)+look_back, :] = train_predict\n",
        "# shift test predictions for plotting\n",
        "testPredictPlot = np.empty_like(df1)\n",
        "testPredictPlot[:, :] = np.nan\n",
        "testPredictPlot[len(train_predict)+(look_back*2)+1:len(df1)-1, :] = test_predict\n",
        "# plot baseline and predictions\n",
        "plt.plot(scaler.inverse_transform(df1))\n",
        "plt.plot(trainPredictPlot)\n",
        "plt.plot(testPredictPlot)\n",
        "plt.show()"
      ],
      "execution_count": null,
      "outputs": [
        {
          "output_type": "display_data",
          "data": {
            "image/png": "[encoded data removed]",
            "text/plain": [
              "<Figure size 1080x360 with 1 Axes>"
            ]
          },
          "metadata": {}
        }
      ]
    },
    {
      "cell_type": "markdown",
      "metadata": {
        "id": "MYdk2GRaG5X5"
      },
      "source": [
        "Orange = training\n",
        "\n",
        "---\n",
        "\n",
        "\n",
        "Blue = original data set\n",
        "\n",
        "---\n",
        "\n",
        "\n",
        "Green = predicted"
      ]
    },
    {
      "cell_type": "code",
      "metadata": {
        "id": "XQa7ic5BXCXe",
        "colab": {
          "base_uri": "https://localhost:8080/"
        },
        "outputId": "f7c4b825-78c9-48a5-e560-ebb09571bdf4"
      },
      "source": [
        "%%shell\n",
        "jupyter nbconvert --to html /content/DataScienceProject.ipynb"
      ],
      "execution_count": null,
      "outputs": [
        {
          "output_type": "stream",
          "name": "stdout",
          "text": [
            "[NbConvertApp] Converting notebook /content/DataScienceProject.ipynb to html\n",
            "[NbConvertApp] Writing 964409 bytes to /content/DataScienceProject.html\n"
          ]
        },
        {
          "output_type": "execute_result",
          "data": {
            "text/plain": [
              ""
            ]
          },
          "metadata": {},
          "execution_count": 2
        }
      ]
    }
  ]
}